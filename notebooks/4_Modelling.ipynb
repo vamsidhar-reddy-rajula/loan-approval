{
 "cells": [
  {
   "cell_type": "code",
   "execution_count": 22,
   "id": "6bea339d-647c-4922-96f9-7b3d2f0cd8f6",
   "metadata": {},
   "outputs": [],
   "source": [
    "import pandas as pd\n",
    "import numpy as np\n",
    "from matplotlib import pyplot as plt\n",
    "import seaborn as sns\n",
    "import plotly.express as px\n",
    "\n",
    "from sklearn.model_selection import train_test_split\n",
    "import statsmodels.api as sm\n",
    "\n",
    "from sklearn.base import BaseEstimator,TransformerMixin\n",
    "from sklearn.impute import KNNImputer\n",
    "from sklearn.pipeline import Pipeline,FeatureUnion\n",
    "from sklearn.preprocessing import OrdinalEncoder\n",
    "\n",
    "from sklearn.linear_model import LogisticRegression\n",
    "from sklearn.model_selection import GridSearchCV\n",
    "from sklearn.preprocessing import MinMaxScaler\n",
    "from sklearn.metrics import f1_score\n",
    "\n",
    "from sklearn.compose import ColumnTransformer\n",
    "\n",
    "\n",
    "from sklearn.pipeline import FeatureUnion\n",
    "from sklearn.preprocessing import OneHotEncoder\n",
    "\n",
    "from sklearn.preprocessing import FunctionTransformer\n",
    "\n",
    "from sklearn.preprocessing import LabelEncoder"
   ]
  },
  {
   "cell_type": "code",
   "execution_count": 3,
   "id": "116f2d2f-c8a5-4116-9e98-ef7fdd65b381",
   "metadata": {},
   "outputs": [],
   "source": [
    "df = pd.read_csv(r\"../data/interim/2_feature_engineered/1_base_data.csv\")"
   ]
  },
  {
   "cell_type": "code",
   "execution_count": 4,
   "id": "657aba73-1fea-4dfd-806d-44e92bb4d6bc",
   "metadata": {},
   "outputs": [],
   "source": [
    "class CustomOrdinalEncoder(BaseEstimator,TransformerMixin):\n",
    "    '''\n",
    "    Converts categories into numbers for KNNImputing\n",
    "    '''\n",
    "    \n",
    "    def __init__(self,feature_name=None):\n",
    "        self.ord_encoder = OrdinalEncoder(handle_unknown='use_encoded_value',unknown_value=1001)\n",
    "        self.feature = feature_name\n",
    "    \n",
    "    def fit(self,X,y=None):\n",
    "        na_indices = X[X.isna()].index.values\n",
    "        not_na_rows = X[X.notna()]\n",
    "        not_na_np = not_na_rows.to_numpy().reshape(-1,1)\n",
    "        self.ord_encoder = self.ord_encoder.fit(not_na_np)\n",
    "        return self\n",
    "    \n",
    "    def transform(self,X,y=None):\n",
    "        na_indices = X[X.isna()].index.values\n",
    "        not_na_rows = X[X.notna()]\n",
    "        not_na_np = not_na_rows.to_numpy().reshape(-1,1)\n",
    "        transformed_data = self.ord_encoder.transform(not_na_np)\n",
    "        not_na_encode = pd.Series(transformed_data.flatten(),index = not_na_rows.index.values)\n",
    "        return not_na_encode\n",
    "    \n",
    "    def inverse_transform(self,X,y=None):\n",
    "        col = X.to_numpy().reshape(-1,1)\n",
    "        return self.ord_encoder.inverse_transform(col)"
   ]
  },
  {
   "cell_type": "code",
   "execution_count": 12,
   "id": "bbe0dfd0-a6db-4720-bbff-eb9094493895",
   "metadata": {},
   "outputs": [],
   "source": [
    "cat_columns = ['Self_Employed',\n",
    " 'Dependents',\n",
    " 'Gender',\n",
    " 'Married',\n",
    " 'Education',\n",
    " 'Property_Area',\n",
    " 'Credit_History']\n",
    "\n",
    "num_columns = ['LoanAmount','ApplicantIncome','TotalApplicantIncome']"
   ]
  },
  {
   "cell_type": "code",
   "execution_count": 55,
   "id": "c12627b4-506f-443e-893d-52fc16e0c1a4",
   "metadata": {},
   "outputs": [],
   "source": [
    "X_train,X_test,y_train,y_test = train_test_split(df.drop(columns=['Loan_Status']),\n",
    "                                                 df['Loan_Status'],stratify=df['Loan_Status'],random_state=60,train_size=0.6)"
   ]
  },
  {
   "cell_type": "code",
   "execution_count": 56,
   "id": "b613cf97-b082-403a-afb5-ea145aeaae6e",
   "metadata": {},
   "outputs": [],
   "source": [
    "X_train = X_train.sort_index()\n",
    "y_train = y_train.sort_index()\n",
    "X_test = X_test.sort_index()\n",
    "y_test = y_test.sort_index()"
   ]
  },
  {
   "cell_type": "code",
   "execution_count": 57,
   "id": "e8a36715-0b30-4a28-9636-13d4dad8f4d7",
   "metadata": {},
   "outputs": [
    {
     "data": {
      "text/html": [
       "<div>\n",
       "<style scoped>\n",
       "    .dataframe tbody tr th:only-of-type {\n",
       "        vertical-align: middle;\n",
       "    }\n",
       "\n",
       "    .dataframe tbody tr th {\n",
       "        vertical-align: top;\n",
       "    }\n",
       "\n",
       "    .dataframe thead th {\n",
       "        text-align: right;\n",
       "    }\n",
       "</style>\n",
       "<table border=\"1\" class=\"dataframe\">\n",
       "  <thead>\n",
       "    <tr style=\"text-align: right;\">\n",
       "      <th></th>\n",
       "      <th>Unnamed: 0</th>\n",
       "      <th>Gender</th>\n",
       "      <th>Married</th>\n",
       "      <th>Dependents</th>\n",
       "      <th>Education</th>\n",
       "      <th>Self_Employed</th>\n",
       "      <th>ApplicantIncome</th>\n",
       "      <th>LoanAmount</th>\n",
       "      <th>Credit_History</th>\n",
       "      <th>Property_Area</th>\n",
       "      <th>TotalApplicantIncome</th>\n",
       "    </tr>\n",
       "  </thead>\n",
       "  <tbody>\n",
       "    <tr>\n",
       "      <th>0</th>\n",
       "      <td>0</td>\n",
       "      <td>Male</td>\n",
       "      <td>No</td>\n",
       "      <td>0</td>\n",
       "      <td>Graduate</td>\n",
       "      <td>No</td>\n",
       "      <td>8.674026</td>\n",
       "      <td>NaN</td>\n",
       "      <td>1.0</td>\n",
       "      <td>Urban</td>\n",
       "      <td>8.674026</td>\n",
       "    </tr>\n",
       "    <tr>\n",
       "      <th>1</th>\n",
       "      <td>1</td>\n",
       "      <td>Male</td>\n",
       "      <td>Yes</td>\n",
       "      <td>1</td>\n",
       "      <td>Graduate</td>\n",
       "      <td>No</td>\n",
       "      <td>8.430109</td>\n",
       "      <td>4.852030</td>\n",
       "      <td>1.0</td>\n",
       "      <td>Rural</td>\n",
       "      <td>8.714568</td>\n",
       "    </tr>\n",
       "    <tr>\n",
       "      <th>2</th>\n",
       "      <td>2</td>\n",
       "      <td>Male</td>\n",
       "      <td>Yes</td>\n",
       "      <td>0</td>\n",
       "      <td>Graduate</td>\n",
       "      <td>Yes</td>\n",
       "      <td>8.006368</td>\n",
       "      <td>4.189655</td>\n",
       "      <td>1.0</td>\n",
       "      <td>Urban</td>\n",
       "      <td>8.006368</td>\n",
       "    </tr>\n",
       "    <tr>\n",
       "      <th>7</th>\n",
       "      <td>7</td>\n",
       "      <td>Male</td>\n",
       "      <td>Yes</td>\n",
       "      <td>3+</td>\n",
       "      <td>Graduate</td>\n",
       "      <td>No</td>\n",
       "      <td>8.018296</td>\n",
       "      <td>5.062595</td>\n",
       "      <td>0.0</td>\n",
       "      <td>Semiurban</td>\n",
       "      <td>8.619750</td>\n",
       "    </tr>\n",
       "    <tr>\n",
       "      <th>12</th>\n",
       "      <td>12</td>\n",
       "      <td>Male</td>\n",
       "      <td>Yes</td>\n",
       "      <td>2</td>\n",
       "      <td>Graduate</td>\n",
       "      <td>No</td>\n",
       "      <td>8.030410</td>\n",
       "      <td>5.298317</td>\n",
       "      <td>1.0</td>\n",
       "      <td>Urban</td>\n",
       "      <td>9.321792</td>\n",
       "    </tr>\n",
       "  </tbody>\n",
       "</table>\n",
       "</div>"
      ],
      "text/plain": [
       "    Unnamed: 0 Gender Married Dependents Education Self_Employed  \\\n",
       "0            0   Male      No          0  Graduate            No   \n",
       "1            1   Male     Yes          1  Graduate            No   \n",
       "2            2   Male     Yes          0  Graduate           Yes   \n",
       "7            7   Male     Yes         3+  Graduate            No   \n",
       "12          12   Male     Yes          2  Graduate            No   \n",
       "\n",
       "    ApplicantIncome  LoanAmount  Credit_History Property_Area  \\\n",
       "0          8.674026         NaN             1.0         Urban   \n",
       "1          8.430109    4.852030             1.0         Rural   \n",
       "2          8.006368    4.189655             1.0         Urban   \n",
       "7          8.018296    5.062595             0.0     Semiurban   \n",
       "12         8.030410    5.298317             1.0         Urban   \n",
       "\n",
       "    TotalApplicantIncome  \n",
       "0               8.674026  \n",
       "1               8.714568  \n",
       "2               8.006368  \n",
       "7               8.619750  \n",
       "12              9.321792  "
      ]
     },
     "execution_count": 57,
     "metadata": {},
     "output_type": "execute_result"
    }
   ],
   "source": [
    "X_train.head()"
   ]
  },
  {
   "cell_type": "code",
   "execution_count": 58,
   "id": "f721b5ac-de5a-4e5a-afc3-c9ef7f54f6fe",
   "metadata": {},
   "outputs": [],
   "source": [
    "ordinal_encoders = []\n",
    "\n",
    "for feature in cat_columns:\n",
    "    encoder = CustomOrdinalEncoder(feature_name=feature)\n",
    "    encoder = encoder.fit(X_train[feature])\n",
    "    ordinal_encoders.append(encoder)\n",
    "    X_train.loc[:,feature] = encoder.transform(X_train[feature])\n",
    "    X_test.loc[:,feature] = encoder.transform(X_test[feature])"
   ]
  },
  {
   "cell_type": "code",
   "execution_count": 59,
   "id": "b43b37c5-74e7-49a4-9410-923212f433f2",
   "metadata": {},
   "outputs": [],
   "source": [
    "scaler = MinMaxScaler()\n",
    "X_train.loc[:,num_columns] = scaler.fit_transform(X_train.loc[:,num_columns])\n",
    "X_test.loc[:,num_columns] = scaler.transform(X_test.loc[:,num_columns])"
   ]
  },
  {
   "cell_type": "code",
   "execution_count": 60,
   "id": "e011bb6e-8a16-4de1-bd5d-36dc66c513be",
   "metadata": {},
   "outputs": [],
   "source": [
    "imputer = KNNImputer(n_neighbors=1,) #impute with values from nearest neighbour\n",
    "X_train = pd.DataFrame(imputer.fit_transform(X_train),columns=X_train.columns)\n",
    "X_test = pd.DataFrame(imputer.transform(X_test),columns=X_test.columns)"
   ]
  },
  {
   "cell_type": "code",
   "execution_count": 61,
   "id": "8fe37eb2-38ed-4fc2-97bc-19f815ed26e8",
   "metadata": {},
   "outputs": [
    {
     "data": {
      "text/html": [
       "<div>\n",
       "<style scoped>\n",
       "    .dataframe tbody tr th:only-of-type {\n",
       "        vertical-align: middle;\n",
       "    }\n",
       "\n",
       "    .dataframe tbody tr th {\n",
       "        vertical-align: top;\n",
       "    }\n",
       "\n",
       "    .dataframe thead th {\n",
       "        text-align: right;\n",
       "    }\n",
       "</style>\n",
       "<table border=\"1\" class=\"dataframe\">\n",
       "  <thead>\n",
       "    <tr style=\"text-align: right;\">\n",
       "      <th></th>\n",
       "      <th>Unnamed: 0</th>\n",
       "      <th>Gender</th>\n",
       "      <th>Married</th>\n",
       "      <th>Dependents</th>\n",
       "      <th>Education</th>\n",
       "      <th>Self_Employed</th>\n",
       "      <th>ApplicantIncome</th>\n",
       "      <th>LoanAmount</th>\n",
       "      <th>Credit_History</th>\n",
       "      <th>Property_Area</th>\n",
       "      <th>TotalApplicantIncome</th>\n",
       "    </tr>\n",
       "  </thead>\n",
       "  <tbody>\n",
       "    <tr>\n",
       "      <th>0</th>\n",
       "      <td>0.0</td>\n",
       "      <td>1.0</td>\n",
       "      <td>0.0</td>\n",
       "      <td>0.0</td>\n",
       "      <td>0.0</td>\n",
       "      <td>0.0</td>\n",
       "      <td>0.582270</td>\n",
       "      <td>0.480287</td>\n",
       "      <td>1.0</td>\n",
       "      <td>2.0</td>\n",
       "      <td>0.294755</td>\n",
       "    </tr>\n",
       "    <tr>\n",
       "      <th>1</th>\n",
       "      <td>1.0</td>\n",
       "      <td>1.0</td>\n",
       "      <td>1.0</td>\n",
       "      <td>1.0</td>\n",
       "      <td>0.0</td>\n",
       "      <td>0.0</td>\n",
       "      <td>0.543501</td>\n",
       "      <td>0.639957</td>\n",
       "      <td>1.0</td>\n",
       "      <td>0.0</td>\n",
       "      <td>0.305634</td>\n",
       "    </tr>\n",
       "    <tr>\n",
       "      <th>2</th>\n",
       "      <td>2.0</td>\n",
       "      <td>1.0</td>\n",
       "      <td>1.0</td>\n",
       "      <td>0.0</td>\n",
       "      <td>0.0</td>\n",
       "      <td>1.0</td>\n",
       "      <td>0.476150</td>\n",
       "      <td>0.480287</td>\n",
       "      <td>1.0</td>\n",
       "      <td>2.0</td>\n",
       "      <td>0.115596</td>\n",
       "    </tr>\n",
       "    <tr>\n",
       "      <th>3</th>\n",
       "      <td>7.0</td>\n",
       "      <td>1.0</td>\n",
       "      <td>1.0</td>\n",
       "      <td>3.0</td>\n",
       "      <td>0.0</td>\n",
       "      <td>0.0</td>\n",
       "      <td>0.478046</td>\n",
       "      <td>0.690715</td>\n",
       "      <td>0.0</td>\n",
       "      <td>1.0</td>\n",
       "      <td>0.280191</td>\n",
       "    </tr>\n",
       "    <tr>\n",
       "      <th>4</th>\n",
       "      <td>12.0</td>\n",
       "      <td>1.0</td>\n",
       "      <td>1.0</td>\n",
       "      <td>2.0</td>\n",
       "      <td>0.0</td>\n",
       "      <td>0.0</td>\n",
       "      <td>0.479972</td>\n",
       "      <td>0.747537</td>\n",
       "      <td>1.0</td>\n",
       "      <td>2.0</td>\n",
       "      <td>0.468577</td>\n",
       "    </tr>\n",
       "  </tbody>\n",
       "</table>\n",
       "</div>"
      ],
      "text/plain": [
       "   Unnamed: 0  Gender  Married  Dependents  Education  Self_Employed  \\\n",
       "0         0.0     1.0      0.0         0.0        0.0            0.0   \n",
       "1         1.0     1.0      1.0         1.0        0.0            0.0   \n",
       "2         2.0     1.0      1.0         0.0        0.0            1.0   \n",
       "3         7.0     1.0      1.0         3.0        0.0            0.0   \n",
       "4        12.0     1.0      1.0         2.0        0.0            0.0   \n",
       "\n",
       "   ApplicantIncome  LoanAmount  Credit_History  Property_Area  \\\n",
       "0         0.582270    0.480287             1.0            2.0   \n",
       "1         0.543501    0.639957             1.0            0.0   \n",
       "2         0.476150    0.480287             1.0            2.0   \n",
       "3         0.478046    0.690715             0.0            1.0   \n",
       "4         0.479972    0.747537             1.0            2.0   \n",
       "\n",
       "   TotalApplicantIncome  \n",
       "0              0.294755  \n",
       "1              0.305634  \n",
       "2              0.115596  \n",
       "3              0.280191  \n",
       "4              0.468577  "
      ]
     },
     "execution_count": 61,
     "metadata": {},
     "output_type": "execute_result"
    }
   ],
   "source": [
    "X_train.head()"
   ]
  },
  {
   "cell_type": "code",
   "execution_count": 62,
   "id": "1c62346e-778d-42ed-8a78-274591546448",
   "metadata": {},
   "outputs": [],
   "source": [
    "X_train = pd.get_dummies(data=X_train,columns=cat_columns)\n",
    "X_test = pd.get_dummies(data=X_test,columns=cat_columns)"
   ]
  },
  {
   "cell_type": "code",
   "execution_count": 63,
   "id": "cd14316d-17e5-4ad0-8f30-62ad58ef661f",
   "metadata": {},
   "outputs": [],
   "source": [
    "label_encoder = LabelEncoder()\n",
    "y_train = label_encoder.fit_transform(y_train)\n",
    "y_test = label_encoder.transform(y_test)"
   ]
  },
  {
   "cell_type": "markdown",
   "id": "0fed9825-db74-4b99-aeac-e32e8957f563",
   "metadata": {},
   "source": [
    "# Model"
   ]
  },
  {
   "cell_type": "code",
   "execution_count": 64,
   "id": "0a65993e-de39-4820-bf29-bf1ed2b3877d",
   "metadata": {},
   "outputs": [],
   "source": [
    "params = {\n",
    "#     'C':[0.05,0.5,0.8,1,1.5]\n",
    "}"
   ]
  },
  {
   "cell_type": "code",
   "execution_count": 65,
   "id": "506e3bf6-8339-452e-b482-60f4e27b37a0",
   "metadata": {
    "collapsed": false,
    "jupyter": {
     "outputs_hidden": false
    }
   },
   "outputs": [],
   "source": [
    "clf = LogisticRegression(fit_intercept=True,random_state=123,max_iter=1000)\n",
    "model = GridSearchCV(clf,param_grid=params)"
   ]
  },
  {
   "cell_type": "code",
   "execution_count": 66,
   "id": "716a9763-03b1-43cd-badc-289d9657b9c1",
   "metadata": {
    "tags": []
   },
   "outputs": [],
   "source": [
    "model = model.fit(X_train,y_train)"
   ]
  },
  {
   "cell_type": "code",
   "execution_count": 67,
   "id": "2039bae4-8741-4293-9f12-d3eb899da20b",
   "metadata": {},
   "outputs": [
    {
     "data": {
      "text/plain": [
       "0.8043478260869565"
      ]
     },
     "execution_count": 67,
     "metadata": {},
     "output_type": "execute_result"
    }
   ],
   "source": [
    "model.score(X_train,y_train)"
   ]
  },
  {
   "cell_type": "code",
   "execution_count": 68,
   "id": "5d15575c-f739-422b-b68c-e1fc581e69e5",
   "metadata": {},
   "outputs": [],
   "source": [
    "# model.score(X_test,y_test)"
   ]
  },
  {
   "cell_type": "code",
   "execution_count": 69,
   "id": "48b8fcc2-02ab-4559-9def-f82fad0b238b",
   "metadata": {},
   "outputs": [
    {
     "data": {
      "text/plain": [
       "0.8663101604278075"
      ]
     },
     "execution_count": 69,
     "metadata": {},
     "output_type": "execute_result"
    }
   ],
   "source": [
    "f1_score(y_test,model.predict(X_test))"
   ]
  },
  {
   "cell_type": "code",
   "execution_count": 70,
   "id": "166adc48-bbb4-4a97-8ffd-8ef376d8d3c4",
   "metadata": {},
   "outputs": [
    {
     "data": {
      "text/plain": [
       "0.8718861209964414"
      ]
     },
     "execution_count": 70,
     "metadata": {},
     "output_type": "execute_result"
    }
   ],
   "source": [
    "f1_score(y_train,model.predict(X_train))"
   ]
  },
  {
   "cell_type": "code",
   "execution_count": null,
   "id": "0c89e605-8546-4d5b-96d5-aa416e325526",
   "metadata": {},
   "outputs": [],
   "source": []
  },
  {
   "cell_type": "code",
   "execution_count": null,
   "id": "3769f08a-289f-455f-b26a-a2c31b3facde",
   "metadata": {},
   "outputs": [],
   "source": []
  }
 ],
 "metadata": {
  "kernelspec": {
   "display_name": "geo_env",
   "language": "python",
   "name": "geo_env"
  },
  "language_info": {
   "codemirror_mode": {
    "name": "ipython",
    "version": 3
   },
   "file_extension": ".py",
   "mimetype": "text/x-python",
   "name": "python",
   "nbconvert_exporter": "python",
   "pygments_lexer": "ipython3",
   "version": "3.9.6"
  }
 },
 "nbformat": 4,
 "nbformat_minor": 5
}
