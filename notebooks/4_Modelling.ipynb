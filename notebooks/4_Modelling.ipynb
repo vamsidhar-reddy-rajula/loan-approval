{
 "cells": [
  {
   "cell_type": "code",
   "execution_count": 1,
   "id": "6bea339d-647c-4922-96f9-7b3d2f0cd8f6",
   "metadata": {},
   "outputs": [],
   "source": [
    "import pandas as pd\n",
    "import numpy as np\n",
    "from matplotlib import pyplot as plt\n",
    "import seaborn as sns\n",
    "import plotly.express as px\n",
    "\n",
    "from sklearn.model_selection import train_test_split\n",
    "import statsmodels.api as sm\n",
    "\n",
    "from sklearn.base import BaseEstimator,TransformerMixin\n",
    "from sklearn.impute import KNNImputer\n",
    "from sklearn.pipeline import Pipeline,FeatureUnion\n",
    "from sklearn.preprocessing import OrdinalEncoder\n",
    "\n",
    "from sklearn.linear_model import LogisticRegression\n",
    "from sklearn.model_selection import GridSearchCV\n",
    "from sklearn.preprocessing import MinMaxScaler\n",
    "from sklearn.metrics import f1_score\n",
    "from sklearn.ensemble import RandomForestClassifier\n",
    "from sklearn.compose import ColumnTransformer\n",
    "\n",
    "\n",
    "from sklearn.pipeline import FeatureUnion\n",
    "from sklearn.preprocessing import OneHotEncoder\n",
    "\n",
    "from sklearn.preprocessing import FunctionTransformer\n",
    "\n",
    "# from imblearn.over_sampling import SMOTE\n",
    "\n",
    "from sklearn.preprocessing import LabelEncoder"
   ]
  },
  {
   "cell_type": "code",
   "execution_count": 2,
   "id": "116f2d2f-c8a5-4116-9e98-ef7fdd65b381",
   "metadata": {},
   "outputs": [],
   "source": [
    "df = pd.read_csv(r\"../data/interim/2_feature_engineered/1_base_data.csv\")"
   ]
  },
  {
   "cell_type": "code",
   "execution_count": 3,
   "id": "657aba73-1fea-4dfd-806d-44e92bb4d6bc",
   "metadata": {},
   "outputs": [],
   "source": [
    "class CustomOrdinalEncoder(BaseEstimator,TransformerMixin):\n",
    "    '''\n",
    "    Converts categories into numbers for KNNImputing\n",
    "    '''\n",
    "    \n",
    "    def __init__(self,feature_name=None):\n",
    "        self.ord_encoder = OrdinalEncoder(handle_unknown='use_encoded_value',unknown_value=1001)\n",
    "        self.feature = feature_name\n",
    "    \n",
    "    def fit(self,X,y=None):\n",
    "        na_indices = X[X.isna()].index.values\n",
    "        not_na_rows = X[X.notna()]\n",
    "        not_na_np = not_na_rows.to_numpy().reshape(-1,1)\n",
    "        self.ord_encoder = self.ord_encoder.fit(not_na_np)\n",
    "        return self\n",
    "    \n",
    "    def transform(self,X,y=None):\n",
    "        na_indices = X[X.isna()].index.values\n",
    "        not_na_rows = X[X.notna()]\n",
    "        not_na_np = not_na_rows.to_numpy().reshape(-1,1)\n",
    "        transformed_data = self.ord_encoder.transform(not_na_np)\n",
    "        not_na_encode = pd.Series(transformed_data.flatten(),index = not_na_rows.index.values)\n",
    "        return not_na_encode\n",
    "    \n",
    "    def inverse_transform(self,X,y=None):\n",
    "        col = X.to_numpy().reshape(-1,1)\n",
    "        return self.ord_encoder.inverse_transform(col)"
   ]
  },
  {
   "cell_type": "code",
   "execution_count": 4,
   "id": "bbe0dfd0-a6db-4720-bbff-eb9094493895",
   "metadata": {},
   "outputs": [],
   "source": [
    "cat_columns = [\n",
    "'Self_Employed',\n",
    " 'Dependents',\n",
    " 'Gender',\n",
    " 'Married',\n",
    " 'Education',\n",
    " 'Property_Area',\n",
    " 'Credit_History']\n",
    "\n",
    "num_columns = ['LoanAmount','ApplicantIncome','TotalApplicantIncome']\n",
    "# num_columns = ['TotalApplicantIncome']"
   ]
  },
  {
   "cell_type": "code",
   "execution_count": 90,
   "id": "1f072128-d1c4-4661-9ece-0df2d80b9a9a",
   "metadata": {},
   "outputs": [],
   "source": [
    "# X = df[[\"Credit_History\",\"Property_Area\",'TotalApplicantIncome']]\n",
    "X = df.drop(columns=['Loan_Status'])\n",
    "y = df['Loan_Status']"
   ]
  },
  {
   "cell_type": "code",
   "execution_count": 91,
   "id": "c12627b4-506f-443e-893d-52fc16e0c1a4",
   "metadata": {},
   "outputs": [],
   "source": [
    "X_train,X_test,y_train,y_test = train_test_split(X,y,stratify=df['Loan_Status'],random_state=60,train_size=0.6)"
   ]
  },
  {
   "cell_type": "code",
   "execution_count": 92,
   "id": "b613cf97-b082-403a-afb5-ea145aeaae6e",
   "metadata": {},
   "outputs": [],
   "source": [
    "X_train = X_train.sort_index()\n",
    "y_train = y_train.sort_index()\n",
    "X_test = X_test.sort_index()\n",
    "y_test = y_test.sort_index()"
   ]
  },
  {
   "cell_type": "code",
   "execution_count": 93,
   "id": "e8a36715-0b30-4a28-9636-13d4dad8f4d7",
   "metadata": {},
   "outputs": [
    {
     "data": {
      "text/html": [
       "<div>\n",
       "<style scoped>\n",
       "    .dataframe tbody tr th:only-of-type {\n",
       "        vertical-align: middle;\n",
       "    }\n",
       "\n",
       "    .dataframe tbody tr th {\n",
       "        vertical-align: top;\n",
       "    }\n",
       "\n",
       "    .dataframe thead th {\n",
       "        text-align: right;\n",
       "    }\n",
       "</style>\n",
       "<table border=\"1\" class=\"dataframe\">\n",
       "  <thead>\n",
       "    <tr style=\"text-align: right;\">\n",
       "      <th></th>\n",
       "      <th>Gender</th>\n",
       "      <th>Married</th>\n",
       "      <th>Dependents</th>\n",
       "      <th>Education</th>\n",
       "      <th>Self_Employed</th>\n",
       "      <th>ApplicantIncome</th>\n",
       "      <th>LoanAmount</th>\n",
       "      <th>Credit_History</th>\n",
       "      <th>Property_Area</th>\n",
       "      <th>TotalApplicantIncome</th>\n",
       "      <th>unknowns</th>\n",
       "    </tr>\n",
       "  </thead>\n",
       "  <tbody>\n",
       "    <tr>\n",
       "      <th>0</th>\n",
       "      <td>Male</td>\n",
       "      <td>No</td>\n",
       "      <td>0</td>\n",
       "      <td>Graduate</td>\n",
       "      <td>No</td>\n",
       "      <td>8.674026</td>\n",
       "      <td>NaN</td>\n",
       "      <td>1.0</td>\n",
       "      <td>Urban</td>\n",
       "      <td>8.674026</td>\n",
       "      <td>1</td>\n",
       "    </tr>\n",
       "    <tr>\n",
       "      <th>1</th>\n",
       "      <td>Male</td>\n",
       "      <td>Yes</td>\n",
       "      <td>1</td>\n",
       "      <td>Graduate</td>\n",
       "      <td>No</td>\n",
       "      <td>8.430109</td>\n",
       "      <td>4.852030</td>\n",
       "      <td>1.0</td>\n",
       "      <td>Rural</td>\n",
       "      <td>8.714568</td>\n",
       "      <td>0</td>\n",
       "    </tr>\n",
       "    <tr>\n",
       "      <th>2</th>\n",
       "      <td>Male</td>\n",
       "      <td>Yes</td>\n",
       "      <td>0</td>\n",
       "      <td>Graduate</td>\n",
       "      <td>Yes</td>\n",
       "      <td>8.006368</td>\n",
       "      <td>4.189655</td>\n",
       "      <td>1.0</td>\n",
       "      <td>Urban</td>\n",
       "      <td>8.006368</td>\n",
       "      <td>0</td>\n",
       "    </tr>\n",
       "    <tr>\n",
       "      <th>7</th>\n",
       "      <td>Male</td>\n",
       "      <td>Yes</td>\n",
       "      <td>3+</td>\n",
       "      <td>Graduate</td>\n",
       "      <td>No</td>\n",
       "      <td>8.018296</td>\n",
       "      <td>5.062595</td>\n",
       "      <td>0.0</td>\n",
       "      <td>Semiurban</td>\n",
       "      <td>8.619750</td>\n",
       "      <td>0</td>\n",
       "    </tr>\n",
       "    <tr>\n",
       "      <th>12</th>\n",
       "      <td>Male</td>\n",
       "      <td>Yes</td>\n",
       "      <td>2</td>\n",
       "      <td>Graduate</td>\n",
       "      <td>No</td>\n",
       "      <td>8.030410</td>\n",
       "      <td>5.298317</td>\n",
       "      <td>1.0</td>\n",
       "      <td>Urban</td>\n",
       "      <td>9.321792</td>\n",
       "      <td>0</td>\n",
       "    </tr>\n",
       "  </tbody>\n",
       "</table>\n",
       "</div>"
      ],
      "text/plain": [
       "   Gender Married Dependents Education Self_Employed  ApplicantIncome  \\\n",
       "0    Male      No          0  Graduate            No         8.674026   \n",
       "1    Male     Yes          1  Graduate            No         8.430109   \n",
       "2    Male     Yes          0  Graduate           Yes         8.006368   \n",
       "7    Male     Yes         3+  Graduate            No         8.018296   \n",
       "12   Male     Yes          2  Graduate            No         8.030410   \n",
       "\n",
       "    LoanAmount  Credit_History Property_Area  TotalApplicantIncome  unknowns  \n",
       "0          NaN             1.0         Urban              8.674026         1  \n",
       "1     4.852030             1.0         Rural              8.714568         0  \n",
       "2     4.189655             1.0         Urban              8.006368         0  \n",
       "7     5.062595             0.0     Semiurban              8.619750         0  \n",
       "12    5.298317             1.0         Urban              9.321792         0  "
      ]
     },
     "execution_count": 93,
     "metadata": {},
     "output_type": "execute_result"
    }
   ],
   "source": [
    "X_train.head()"
   ]
  },
  {
   "cell_type": "code",
   "execution_count": 94,
   "id": "f721b5ac-de5a-4e5a-afc3-c9ef7f54f6fe",
   "metadata": {},
   "outputs": [],
   "source": [
    "ordinal_encoders = []\n",
    "\n",
    "for feature in cat_columns:\n",
    "    encoder = CustomOrdinalEncoder(feature_name=feature)\n",
    "    encoder = encoder.fit(X_train[feature])\n",
    "    ordinal_encoders.append(encoder)\n",
    "    X_train.loc[:,feature] = encoder.transform(X_train[feature])\n",
    "    X_test.loc[:,feature] = encoder.transform(X_test[feature])"
   ]
  },
  {
   "cell_type": "code",
   "execution_count": 95,
   "id": "b43b37c5-74e7-49a4-9410-923212f433f2",
   "metadata": {},
   "outputs": [],
   "source": [
    "scaler = MinMaxScaler()\n",
    "X_train.loc[:,num_columns] = scaler.fit_transform(X_train.loc[:,num_columns])\n",
    "X_test.loc[:,num_columns] = scaler.transform(X_test.loc[:,num_columns])"
   ]
  },
  {
   "cell_type": "code",
   "execution_count": 96,
   "id": "e011bb6e-8a16-4de1-bd5d-36dc66c513be",
   "metadata": {},
   "outputs": [],
   "source": [
    "imputer = KNNImputer(n_neighbors=1,) #impute with values from nearest neighbour\n",
    "X_train = pd.DataFrame(imputer.fit_transform(X_train),columns=X_train.columns)\n",
    "X_test = pd.DataFrame(imputer.transform(X_test),columns=X_test.columns)"
   ]
  },
  {
   "cell_type": "code",
   "execution_count": 97,
   "id": "8fe37eb2-38ed-4fc2-97bc-19f815ed26e8",
   "metadata": {},
   "outputs": [
    {
     "data": {
      "text/html": [
       "<div>\n",
       "<style scoped>\n",
       "    .dataframe tbody tr th:only-of-type {\n",
       "        vertical-align: middle;\n",
       "    }\n",
       "\n",
       "    .dataframe tbody tr th {\n",
       "        vertical-align: top;\n",
       "    }\n",
       "\n",
       "    .dataframe thead th {\n",
       "        text-align: right;\n",
       "    }\n",
       "</style>\n",
       "<table border=\"1\" class=\"dataframe\">\n",
       "  <thead>\n",
       "    <tr style=\"text-align: right;\">\n",
       "      <th></th>\n",
       "      <th>Gender</th>\n",
       "      <th>Married</th>\n",
       "      <th>Dependents</th>\n",
       "      <th>Education</th>\n",
       "      <th>Self_Employed</th>\n",
       "      <th>ApplicantIncome</th>\n",
       "      <th>LoanAmount</th>\n",
       "      <th>Credit_History</th>\n",
       "      <th>Property_Area</th>\n",
       "      <th>TotalApplicantIncome</th>\n",
       "      <th>unknowns</th>\n",
       "    </tr>\n",
       "  </thead>\n",
       "  <tbody>\n",
       "    <tr>\n",
       "      <th>0</th>\n",
       "      <td>1.0</td>\n",
       "      <td>0.0</td>\n",
       "      <td>0.0</td>\n",
       "      <td>0.0</td>\n",
       "      <td>0.0</td>\n",
       "      <td>0.582270</td>\n",
       "      <td>0.695249</td>\n",
       "      <td>1.0</td>\n",
       "      <td>2.0</td>\n",
       "      <td>0.294755</td>\n",
       "      <td>1.0</td>\n",
       "    </tr>\n",
       "    <tr>\n",
       "      <th>1</th>\n",
       "      <td>1.0</td>\n",
       "      <td>1.0</td>\n",
       "      <td>1.0</td>\n",
       "      <td>0.0</td>\n",
       "      <td>0.0</td>\n",
       "      <td>0.543501</td>\n",
       "      <td>0.639957</td>\n",
       "      <td>1.0</td>\n",
       "      <td>0.0</td>\n",
       "      <td>0.305634</td>\n",
       "      <td>0.0</td>\n",
       "    </tr>\n",
       "    <tr>\n",
       "      <th>2</th>\n",
       "      <td>1.0</td>\n",
       "      <td>1.0</td>\n",
       "      <td>0.0</td>\n",
       "      <td>0.0</td>\n",
       "      <td>1.0</td>\n",
       "      <td>0.476150</td>\n",
       "      <td>0.480287</td>\n",
       "      <td>1.0</td>\n",
       "      <td>2.0</td>\n",
       "      <td>0.115596</td>\n",
       "      <td>0.0</td>\n",
       "    </tr>\n",
       "    <tr>\n",
       "      <th>3</th>\n",
       "      <td>1.0</td>\n",
       "      <td>1.0</td>\n",
       "      <td>3.0</td>\n",
       "      <td>0.0</td>\n",
       "      <td>0.0</td>\n",
       "      <td>0.478046</td>\n",
       "      <td>0.690715</td>\n",
       "      <td>0.0</td>\n",
       "      <td>1.0</td>\n",
       "      <td>0.280191</td>\n",
       "      <td>0.0</td>\n",
       "    </tr>\n",
       "    <tr>\n",
       "      <th>4</th>\n",
       "      <td>1.0</td>\n",
       "      <td>1.0</td>\n",
       "      <td>2.0</td>\n",
       "      <td>0.0</td>\n",
       "      <td>0.0</td>\n",
       "      <td>0.479972</td>\n",
       "      <td>0.747537</td>\n",
       "      <td>1.0</td>\n",
       "      <td>2.0</td>\n",
       "      <td>0.468577</td>\n",
       "      <td>0.0</td>\n",
       "    </tr>\n",
       "  </tbody>\n",
       "</table>\n",
       "</div>"
      ],
      "text/plain": [
       "   Gender  Married  Dependents  Education  Self_Employed  ApplicantIncome  \\\n",
       "0     1.0      0.0         0.0        0.0            0.0         0.582270   \n",
       "1     1.0      1.0         1.0        0.0            0.0         0.543501   \n",
       "2     1.0      1.0         0.0        0.0            1.0         0.476150   \n",
       "3     1.0      1.0         3.0        0.0            0.0         0.478046   \n",
       "4     1.0      1.0         2.0        0.0            0.0         0.479972   \n",
       "\n",
       "   LoanAmount  Credit_History  Property_Area  TotalApplicantIncome  unknowns  \n",
       "0    0.695249             1.0            2.0              0.294755       1.0  \n",
       "1    0.639957             1.0            0.0              0.305634       0.0  \n",
       "2    0.480287             1.0            2.0              0.115596       0.0  \n",
       "3    0.690715             0.0            1.0              0.280191       0.0  \n",
       "4    0.747537             1.0            2.0              0.468577       0.0  "
      ]
     },
     "execution_count": 97,
     "metadata": {},
     "output_type": "execute_result"
    }
   ],
   "source": [
    "X_train.head()"
   ]
  },
  {
   "cell_type": "code",
   "execution_count": 98,
   "id": "d3d5dcba-bc54-482a-966d-7860fe9ace96",
   "metadata": {},
   "outputs": [],
   "source": [
    "for encoder,feature in zip(ordinal_encoders,cat_columns):\n",
    "    X_train.loc[:,feature] = encoder.inverse_transform(X_train[feature])\n",
    "    X_test.loc[:,feature] = encoder.inverse_transform(X_test[feature])"
   ]
  },
  {
   "cell_type": "code",
   "execution_count": 99,
   "id": "1c62346e-778d-42ed-8a78-274591546448",
   "metadata": {},
   "outputs": [],
   "source": [
    "X_train = pd.get_dummies(data=X_train,columns=cat_columns)\n",
    "X_test = pd.get_dummies(data=X_test,columns=cat_columns)"
   ]
  },
  {
   "cell_type": "code",
   "execution_count": 100,
   "id": "cd14316d-17e5-4ad0-8f30-62ad58ef661f",
   "metadata": {},
   "outputs": [],
   "source": [
    "label_encoder = LabelEncoder()\n",
    "y_train = label_encoder.fit_transform(y_train)\n",
    "y_test = label_encoder.transform(y_test)"
   ]
  },
  {
   "cell_type": "code",
   "execution_count": 101,
   "id": "b79e88a2-f9a5-47bb-a7e5-8d9737f67d58",
   "metadata": {},
   "outputs": [
    {
     "data": {
      "text/plain": [
       "<AxesSubplot:ylabel='count'>"
      ]
     },
     "execution_count": 101,
     "metadata": {},
     "output_type": "execute_result"
    },
    {
     "data": {
      "image/png": "[encoded data removed]",
      "text/plain": [
       "<Figure size 432x288 with 1 Axes>"
      ]
     },
     "metadata": {
      "needs_background": "light"
     },
     "output_type": "display_data"
    }
   ],
   "source": [
    "sns.countplot(x=y_train)"
   ]
  },
  {
   "cell_type": "code",
   "execution_count": 102,
   "id": "89f0b4fc-8fbd-4053-bf72-0c411b56eee7",
   "metadata": {},
   "outputs": [],
   "source": [
    "sm = SMOTE(random_state=323)\n",
    "# X_train, y_train = sm.fit_resample(X_train,y_train) #smote worsened the score to 0.82"
   ]
  },
  {
   "cell_type": "code",
   "execution_count": 103,
   "id": "787cb85f-8d78-48a4-9195-f2dc7db555c3",
   "metadata": {},
   "outputs": [
    {
     "data": {
      "text/plain": [
       "<AxesSubplot:ylabel='count'>"
      ]
     },
     "execution_count": 103,
     "metadata": {},
     "output_type": "execute_result"
    },
    {
     "data": {
      "image/png": "[encoded data removed]",
      "text/plain": [
       "<Figure size 432x288 with 1 Axes>"
      ]
     },
     "metadata": {
      "needs_background": "light"
     },
     "output_type": "display_data"
    }
   ],
   "source": [
    "sns.countplot(x=y_train)"
   ]
  },
  {
   "cell_type": "markdown",
   "id": "0fed9825-db74-4b99-aeac-e32e8957f563",
   "metadata": {},
   "source": [
    "# Model"
   ]
  },
  {
   "cell_type": "code",
   "execution_count": 104,
   "id": "0a65993e-de39-4820-bf29-bf1ed2b3877d",
   "metadata": {},
   "outputs": [],
   "source": [
    "params = {\n",
    "#     'C':[0.05,0.5,0.8,1,1.5]\n",
    "}"
   ]
  },
  {
   "cell_type": "code",
   "execution_count": 105,
   "id": "506e3bf6-8339-452e-b482-60f4e27b37a0",
   "metadata": {
    "collapsed": false,
    "jupyter": {
     "outputs_hidden": false
    }
   },
   "outputs": [],
   "source": [
    "clf = LogisticRegression(fit_intercept=True,random_state=123,max_iter=1000)\n",
    "model = GridSearchCV(clf,param_grid=params)"
   ]
  },
  {
   "cell_type": "code",
   "execution_count": 106,
   "id": "716a9763-03b1-43cd-badc-289d9657b9c1",
   "metadata": {
    "tags": []
   },
   "outputs": [],
   "source": [
    "model = model.fit(X_train,y_train)"
   ]
  },
  {
   "cell_type": "code",
   "execution_count": 107,
   "id": "2039bae4-8741-4293-9f12-d3eb899da20b",
   "metadata": {},
   "outputs": [
    {
     "data": {
      "text/plain": [
       "0.7961956521739131"
      ]
     },
     "execution_count": 107,
     "metadata": {},
     "output_type": "execute_result"
    }
   ],
   "source": [
    "model.score(X_train,y_train)"
   ]
  },
  {
   "cell_type": "code",
   "execution_count": 108,
   "id": "5d15575c-f739-422b-b68c-e1fc581e69e5",
   "metadata": {},
   "outputs": [],
   "source": [
    "# model.score(X_test,y_test)"
   ]
  },
  {
   "cell_type": "code",
   "execution_count": 109,
   "id": "48b8fcc2-02ab-4559-9def-f82fad0b238b",
   "metadata": {},
   "outputs": [
    {
     "data": {
      "text/plain": [
       "0.8639999999999999"
      ]
     },
     "execution_count": 109,
     "metadata": {},
     "output_type": "execute_result"
    }
   ],
   "source": [
    "f1_score(y_test,model.predict(X_test))"
   ]
  },
  {
   "cell_type": "code",
   "execution_count": 110,
   "id": "166adc48-bbb4-4a97-8ffd-8ef376d8d3c4",
   "metadata": {},
   "outputs": [
    {
     "data": {
      "text/plain": [
       "0.8653500897666068"
      ]
     },
     "execution_count": 110,
     "metadata": {},
     "output_type": "execute_result"
    }
   ],
   "source": [
    "f1_score(y_train,model.predict(X_train))"
   ]
  },
  {
   "cell_type": "code",
   "execution_count": 10,
   "id": "0c89e605-8546-4d5b-96d5-aa416e325526",
   "metadata": {
    "tags": []
   },
   "outputs": [
    {
     "ename": "AttributeError",
     "evalue": "module 'matplotlib' has no attribute 'get_data_path'",
     "output_type": "error",
     "traceback": [
      "\u001b[1;31m---------------------------------------------------------------------------\u001b[0m",
      "\u001b[1;31mAttributeError\u001b[0m                            Traceback (most recent call last)",
      "\u001b[1;32m~\\AppData\\Local\\Temp/ipykernel_5972/322768712.py\u001b[0m in \u001b[0;36m<module>\u001b[1;34m\u001b[0m\n\u001b[1;32m----> 1\u001b[1;33m \u001b[1;32mimport\u001b[0m \u001b[0mmatplotlib\u001b[0m\u001b[1;33m.\u001b[0m\u001b[0mpyplot\u001b[0m \u001b[1;32mas\u001b[0m \u001b[0mplt\u001b[0m\u001b[1;33m\u001b[0m\u001b[1;33m\u001b[0m\u001b[0m\n\u001b[0m",
      "\u001b[1;32m~\\AppData\\Roaming\\Python\\Python39\\site-packages\\matplotlib\\__init__.py\u001b[0m in \u001b[0;36m<module>\u001b[1;34m\u001b[0m\n\u001b[0;32m    821\u001b[0m \u001b[1;31m# triggering resolution of _auto_backend_sentinel.\u001b[0m\u001b[1;33m\u001b[0m\u001b[1;33m\u001b[0m\u001b[1;33m\u001b[0m\u001b[0m\n\u001b[0;32m    822\u001b[0m rcParamsDefault = _rc_params_in_file(\n\u001b[1;32m--> 823\u001b[1;33m     \u001b[0mcbook\u001b[0m\u001b[1;33m.\u001b[0m\u001b[0m_get_data_path\u001b[0m\u001b[1;33m(\u001b[0m\u001b[1;34m\"matplotlibrc\"\u001b[0m\u001b[1;33m)\u001b[0m\u001b[1;33m,\u001b[0m\u001b[1;33m\u001b[0m\u001b[1;33m\u001b[0m\u001b[0m\n\u001b[0m\u001b[0;32m    824\u001b[0m     \u001b[1;31m# Strip leading comment.\u001b[0m\u001b[1;33m\u001b[0m\u001b[1;33m\u001b[0m\u001b[1;33m\u001b[0m\u001b[0m\n\u001b[0;32m    825\u001b[0m     \u001b[0mtransform\u001b[0m\u001b[1;33m=\u001b[0m\u001b[1;32mlambda\u001b[0m \u001b[0mline\u001b[0m\u001b[1;33m:\u001b[0m \u001b[0mline\u001b[0m\u001b[1;33m[\u001b[0m\u001b[1;36m1\u001b[0m\u001b[1;33m:\u001b[0m\u001b[1;33m]\u001b[0m \u001b[1;32mif\u001b[0m \u001b[0mline\u001b[0m\u001b[1;33m.\u001b[0m\u001b[0mstartswith\u001b[0m\u001b[1;33m(\u001b[0m\u001b[1;34m\"#\"\u001b[0m\u001b[1;33m)\u001b[0m \u001b[1;32melse\u001b[0m \u001b[0mline\u001b[0m\u001b[1;33m,\u001b[0m\u001b[1;33m\u001b[0m\u001b[1;33m\u001b[0m\u001b[0m\n",
      "\u001b[1;32mD:\\Anaconda\\envs\\geo_env\\lib\\site-packages\\matplotlib\\cbook\\__init__.py\u001b[0m in \u001b[0;36m_get_data_path\u001b[1;34m(*args)\u001b[0m\n\u001b[0;32m    532\u001b[0m     \u001b[0;31m`\u001b[0m\u001b[0;31m`\u001b[0m\u001b[1;33m*\u001b[0m\u001b[0margs\u001b[0m\u001b[0;31m`\u001b[0m\u001b[0;31m`\u001b[0m \u001b[0mspecify\u001b[0m \u001b[0ma\u001b[0m \u001b[0mpath\u001b[0m \u001b[0mrelative\u001b[0m \u001b[0mto\u001b[0m \u001b[0mthe\u001b[0m \u001b[0mbase\u001b[0m \u001b[0mdata\u001b[0m \u001b[0mpath\u001b[0m\u001b[1;33m.\u001b[0m\u001b[1;33m\u001b[0m\u001b[1;33m\u001b[0m\u001b[0m\n\u001b[0;32m    533\u001b[0m     \"\"\"\n\u001b[1;32m--> 534\u001b[1;33m     \u001b[1;32mreturn\u001b[0m \u001b[0mPath\u001b[0m\u001b[1;33m(\u001b[0m\u001b[0mmatplotlib\u001b[0m\u001b[1;33m.\u001b[0m\u001b[0mget_data_path\u001b[0m\u001b[1;33m(\u001b[0m\u001b[1;33m)\u001b[0m\u001b[1;33m,\u001b[0m \u001b[1;33m*\u001b[0m\u001b[0margs\u001b[0m\u001b[1;33m)\u001b[0m\u001b[1;33m\u001b[0m\u001b[1;33m\u001b[0m\u001b[0m\n\u001b[0m\u001b[0;32m    535\u001b[0m \u001b[1;33m\u001b[0m\u001b[0m\n\u001b[0;32m    536\u001b[0m \u001b[1;33m\u001b[0m\u001b[0m\n",
      "\u001b[1;31mAttributeError\u001b[0m: module 'matplotlib' has no attribute 'get_data_path'"
     ]
    }
   ],
   "source": [
    "import matplotlib.pyplot as plt"
   ]
  },
  {
   "cell_type": "code",
   "execution_count": 118,
   "id": "67a298a9-3333-4a41-ad4b-d208d79330ce",
   "metadata": {},
   "outputs": [
    {
     "ename": "ModuleNotFoundError",
     "evalue": "No module named 'pdpbox'",
     "output_type": "error",
     "traceback": [
      "\u001b[1;31m---------------------------------------------------------------------------\u001b[0m",
      "\u001b[1;31mModuleNotFoundError\u001b[0m                       Traceback (most recent call last)",
      "\u001b[1;32m~\\AppData\\Local\\Temp/ipykernel_8428/2026189756.py\u001b[0m in \u001b[0;36m<module>\u001b[1;34m\u001b[0m\n\u001b[1;32m----> 1\u001b[1;33m \u001b[1;32mfrom\u001b[0m \u001b[0mpdpbox\u001b[0m \u001b[1;32mimport\u001b[0m \u001b[0mpdp\u001b[0m\u001b[1;33m,\u001b[0m \u001b[0mget_dataset\u001b[0m\u001b[1;33m,\u001b[0m \u001b[0minfo_plots\u001b[0m\u001b[1;33m\u001b[0m\u001b[1;33m\u001b[0m\u001b[0m\n\u001b[0m\u001b[0;32m      2\u001b[0m \u001b[1;33m\u001b[0m\u001b[0m\n\u001b[0;32m      3\u001b[0m \u001b[1;31m# Create the data that we will plot\u001b[0m\u001b[1;33m\u001b[0m\u001b[1;33m\u001b[0m\u001b[1;33m\u001b[0m\u001b[0m\n\u001b[0;32m      4\u001b[0m \u001b[0mpdp_goals\u001b[0m \u001b[1;33m=\u001b[0m \u001b[0mpdp\u001b[0m\u001b[1;33m.\u001b[0m\u001b[0mpdp_isolate\u001b[0m\u001b[1;33m(\u001b[0m\u001b[0mmodel\u001b[0m\u001b[1;33m=\u001b[0m\u001b[0mmodel\u001b[0m\u001b[1;33m,\u001b[0m \u001b[0mdataset\u001b[0m\u001b[1;33m=\u001b[0m\u001b[0mval_X\u001b[0m\u001b[1;33m,\u001b[0m \u001b[0mmodel_features\u001b[0m\u001b[1;33m=\u001b[0m\u001b[0mfeature_names\u001b[0m\u001b[1;33m,\u001b[0m \u001b[0mfeature\u001b[0m\u001b[1;33m=\u001b[0m\u001b[1;34m'Goal Scored'\u001b[0m\u001b[1;33m)\u001b[0m\u001b[1;33m\u001b[0m\u001b[1;33m\u001b[0m\u001b[0m\n\u001b[0;32m      5\u001b[0m \u001b[1;33m\u001b[0m\u001b[0m\n",
      "\u001b[1;31mModuleNotFoundError\u001b[0m: No module named 'pdpbox'"
     ]
    }
   ],
   "source": [
    "from pdpbox import pdp, get_dataset, info_plots\n",
    "\n",
    "# Create the data that we will plot\n",
    "pdp_goals = pdp.pdp_isolate(model=model, dataset=val_X, model_features=feature_names, feature='Goal Scored')\n",
    "\n",
    "# plot it\n",
    "pdp.pdp_plot(pdp_goals, 'Goal Scored')\n",
    "plt.show()"
   ]
  },
  {
   "cell_type": "code",
   "execution_count": null,
   "id": "70a5c0db-d368-414a-9325-035cea1d3151",
   "metadata": {},
   "outputs": [],
   "source": []
  },
  {
   "cell_type": "code",
   "execution_count": null,
   "id": "f4989d4f-2459-4faf-9a7b-51485cca342c",
   "metadata": {},
   "outputs": [],
   "source": []
  },
  {
   "cell_type": "code",
   "execution_count": null,
   "id": "283ecb54-0458-4626-b8a4-ba396804f833",
   "metadata": {},
   "outputs": [],
   "source": []
  },
  {
   "cell_type": "code",
   "execution_count": null,
   "id": "785100a9-b7b0-4011-9dc1-8c8de746dbef",
   "metadata": {},
   "outputs": [],
   "source": []
  },
  {
   "cell_type": "code",
   "execution_count": null,
   "id": "147a46e7-94e2-44f9-b429-9167446f0c24",
   "metadata": {},
   "outputs": [],
   "source": []
  },
  {
   "cell_type": "code",
   "execution_count": null,
   "id": "e471498d-cf47-4654-a004-7be96db7cfa1",
   "metadata": {},
   "outputs": [],
   "source": []
  },
  {
   "cell_type": "code",
   "execution_count": null,
   "id": "6f695129-ccf7-4fdb-8018-6b362605d1da",
   "metadata": {},
   "outputs": [],
   "source": []
  },
  {
   "cell_type": "code",
   "execution_count": 111,
   "id": "ee805b80-64d1-4834-a2e1-c11a4ca27dd7",
   "metadata": {},
   "outputs": [],
   "source": [
    "params= {\n",
    "    \"n_estimators\" : [20,50,100,150],\n",
    "    \"max_depth\" : [2,3,5,6],\n",
    "}"
   ]
  },
  {
   "cell_type": "code",
   "execution_count": 112,
   "id": "3769f08a-289f-455f-b26a-a2c31b3facde",
   "metadata": {},
   "outputs": [],
   "source": [
    "clf_forest = RandomForestClassifier()\n",
    "model_forest = GridSearchCV(clf_forest,param_grid=params,cv=4)"
   ]
  },
  {
   "cell_type": "code",
   "execution_count": 113,
   "id": "5c103c3f-5f71-4899-9c31-e1fc51e316dc",
   "metadata": {},
   "outputs": [
    {
     "data": {
      "text/plain": [
       "GridSearchCV(cv=4, estimator=RandomForestClassifier(),\n",
       "             param_grid={'max_depth': [2, 3, 5, 6],\n",
       "                         'n_estimators': [20, 50, 100, 150]})"
      ]
     },
     "execution_count": 113,
     "metadata": {},
     "output_type": "execute_result"
    }
   ],
   "source": [
    "model_forest.fit(X_train,y_train)"
   ]
  },
  {
   "cell_type": "code",
   "execution_count": 114,
   "id": "19f9929b-0740-4f2c-80be-0b4747cc6f44",
   "metadata": {},
   "outputs": [
    {
     "data": {
      "text/plain": [
       "0.8648648648648648"
      ]
     },
     "execution_count": 114,
     "metadata": {},
     "output_type": "execute_result"
    }
   ],
   "source": [
    "f1_score(y_train,model_forest.predict(X_train))"
   ]
  },
  {
   "cell_type": "code",
   "execution_count": 115,
   "id": "7b95e3ff-f21b-4294-ad8a-d91931b36ca7",
   "metadata": {},
   "outputs": [
    {
     "data": {
      "text/plain": [
       "0.8700265251989389"
      ]
     },
     "execution_count": 115,
     "metadata": {},
     "output_type": "execute_result"
    }
   ],
   "source": [
    "f1_score(y_test,model_forest.predict(X_test))"
   ]
  },
  {
   "cell_type": "code",
   "execution_count": 116,
   "id": "b59fa9b4-dd1b-415f-a409-9a4a8a0c1d5c",
   "metadata": {},
   "outputs": [
    {
     "data": {
      "text/plain": [
       "RandomForestClassifier(max_depth=2)"
      ]
     },
     "execution_count": 116,
     "metadata": {},
     "output_type": "execute_result"
    }
   ],
   "source": [
    "model_forest.best_estimator_"
   ]
  },
  {
   "cell_type": "code",
   "execution_count": 81,
   "id": "2535c606-379e-4652-bdc6-b0b3514e1c94",
   "metadata": {},
   "outputs": [],
   "source": [
    "#0.8746, 0.877256\n",
    "#test train\n",
    "# 0.87 0.86     property_area, credit_history, totalincome\n",
    "# "
   ]
  },
  {
   "cell_type": "code",
   "execution_count": null,
   "id": "20b634b1-a78e-4a71-b408-0894150673aa",
   "metadata": {},
   "outputs": [],
   "source": []
  },
  {
   "cell_type": "code",
   "execution_count": null,
   "id": "aaa88705-fd54-4510-9615-b7e164a4205c",
   "metadata": {},
   "outputs": [],
   "source": []
  },
  {
   "cell_type": "code",
   "execution_count": null,
   "id": "dfdaefa4-cc18-4fc5-8162-86b8b1da8912",
   "metadata": {},
   "outputs": [],
   "source": []
  },
  {
   "cell_type": "code",
   "execution_count": null,
   "id": "d019ad9f-29b3-4865-af85-a716a1d8d1a1",
   "metadata": {},
   "outputs": [],
   "source": []
  },
  {
   "cell_type": "code",
   "execution_count": 37,
   "id": "cbdb7852-07b9-4b56-a46b-8761f462fc44",
   "metadata": {},
   "outputs": [
    {
     "data": {
      "text/html": [
       "<div>\n",
       "<style scoped>\n",
       "    .dataframe tbody tr th:only-of-type {\n",
       "        vertical-align: middle;\n",
       "    }\n",
       "\n",
       "    .dataframe tbody tr th {\n",
       "        vertical-align: top;\n",
       "    }\n",
       "\n",
       "    .dataframe thead th {\n",
       "        text-align: right;\n",
       "    }\n",
       "</style>\n",
       "<table border=\"1\" class=\"dataframe\">\n",
       "  <thead>\n",
       "    <tr style=\"text-align: right;\">\n",
       "      <th></th>\n",
       "      <th>Feature</th>\n",
       "      <th>Score</th>\n",
       "    </tr>\n",
       "  </thead>\n",
       "  <tbody>\n",
       "    <tr>\n",
       "      <th>19</th>\n",
       "      <td>Credit_History_1.0</td>\n",
       "      <td>0.427144</td>\n",
       "    </tr>\n",
       "    <tr>\n",
       "      <th>18</th>\n",
       "      <td>Credit_History_0.0</td>\n",
       "      <td>0.211507</td>\n",
       "    </tr>\n",
       "    <tr>\n",
       "      <th>16</th>\n",
       "      <td>Property_Area_Semiurban</td>\n",
       "      <td>0.125483</td>\n",
       "    </tr>\n",
       "    <tr>\n",
       "      <th>0</th>\n",
       "      <td>ApplicantIncome</td>\n",
       "      <td>0.062681</td>\n",
       "    </tr>\n",
       "    <tr>\n",
       "      <th>15</th>\n",
       "      <td>Property_Area_Rural</td>\n",
       "      <td>0.053380</td>\n",
       "    </tr>\n",
       "    <tr>\n",
       "      <th>1</th>\n",
       "      <td>LoanAmount</td>\n",
       "      <td>0.044534</td>\n",
       "    </tr>\n",
       "    <tr>\n",
       "      <th>2</th>\n",
       "      <td>TotalApplicantIncome</td>\n",
       "      <td>0.039595</td>\n",
       "    </tr>\n",
       "    <tr>\n",
       "      <th>13</th>\n",
       "      <td>Education_Graduate</td>\n",
       "      <td>0.009087</td>\n",
       "    </tr>\n",
       "    <tr>\n",
       "      <th>3</th>\n",
       "      <td>Self_Employed_No</td>\n",
       "      <td>0.007726</td>\n",
       "    </tr>\n",
       "    <tr>\n",
       "      <th>8</th>\n",
       "      <td>Dependents_3+</td>\n",
       "      <td>0.006897</td>\n",
       "    </tr>\n",
       "    <tr>\n",
       "      <th>4</th>\n",
       "      <td>Self_Employed_Yes</td>\n",
       "      <td>0.004604</td>\n",
       "    </tr>\n",
       "    <tr>\n",
       "      <th>11</th>\n",
       "      <td>Married_No</td>\n",
       "      <td>0.004038</td>\n",
       "    </tr>\n",
       "    <tr>\n",
       "      <th>9</th>\n",
       "      <td>Gender_Female</td>\n",
       "      <td>0.002392</td>\n",
       "    </tr>\n",
       "    <tr>\n",
       "      <th>12</th>\n",
       "      <td>Married_Yes</td>\n",
       "      <td>0.000754</td>\n",
       "    </tr>\n",
       "    <tr>\n",
       "      <th>14</th>\n",
       "      <td>Education_Not Graduate</td>\n",
       "      <td>0.000179</td>\n",
       "    </tr>\n",
       "    <tr>\n",
       "      <th>5</th>\n",
       "      <td>Dependents_0</td>\n",
       "      <td>0.000000</td>\n",
       "    </tr>\n",
       "    <tr>\n",
       "      <th>6</th>\n",
       "      <td>Dependents_1</td>\n",
       "      <td>0.000000</td>\n",
       "    </tr>\n",
       "    <tr>\n",
       "      <th>7</th>\n",
       "      <td>Dependents_2</td>\n",
       "      <td>0.000000</td>\n",
       "    </tr>\n",
       "    <tr>\n",
       "      <th>17</th>\n",
       "      <td>Property_Area_Urban</td>\n",
       "      <td>0.000000</td>\n",
       "    </tr>\n",
       "    <tr>\n",
       "      <th>10</th>\n",
       "      <td>Gender_Male</td>\n",
       "      <td>0.000000</td>\n",
       "    </tr>\n",
       "  </tbody>\n",
       "</table>\n",
       "</div>"
      ],
      "text/plain": [
       "                    Feature     Score\n",
       "19       Credit_History_1.0  0.427144\n",
       "18       Credit_History_0.0  0.211507\n",
       "16  Property_Area_Semiurban  0.125483\n",
       "0           ApplicantIncome  0.062681\n",
       "15      Property_Area_Rural  0.053380\n",
       "1                LoanAmount  0.044534\n",
       "2      TotalApplicantIncome  0.039595\n",
       "13       Education_Graduate  0.009087\n",
       "3          Self_Employed_No  0.007726\n",
       "8             Dependents_3+  0.006897\n",
       "4         Self_Employed_Yes  0.004604\n",
       "11               Married_No  0.004038\n",
       "9             Gender_Female  0.002392\n",
       "12              Married_Yes  0.000754\n",
       "14   Education_Not Graduate  0.000179\n",
       "5              Dependents_0  0.000000\n",
       "6              Dependents_1  0.000000\n",
       "7              Dependents_2  0.000000\n",
       "17      Property_Area_Urban  0.000000\n",
       "10              Gender_Male  0.000000"
      ]
     },
     "execution_count": 37,
     "metadata": {},
     "output_type": "execute_result"
    }
   ],
   "source": [
    "pd.DataFrame(zip(X_train.columns,model_forest.best_estimator_.feature_importances_)).sort_values(by=[1],ascending=False).rename(columns = {0:\"Feature\",1:\"Score\"})"
   ]
  },
  {
   "cell_type": "code",
   "execution_count": 46,
   "id": "f137f666-ab54-456e-a311-648e25ac3486",
   "metadata": {},
   "outputs": [],
   "source": [
    "from sklearn.inspection import permutation_importance\n",
    "r = permutation_importance(model_forest, X_test, y_test,\n",
    "                           n_repeats=30,\n",
    "                           random_state=0)"
   ]
  },
  {
   "cell_type": "code",
   "execution_count": 47,
   "id": "703f75da-5de6-4e43-93e8-9e3cfa2876f4",
   "metadata": {},
   "outputs": [
    {
     "name": "stdout",
     "output_type": "stream",
     "text": [
      "Credit_History_1.0  0.141 +/- 0.018\n",
      "Credit_History_0.0  0.034 +/- 0.006\n"
     ]
    }
   ],
   "source": [
    "for i in r.importances_mean.argsort()[::-1]:\n",
    "    if r.importances_mean[i] - 2 * r.importances_std[i] > 0:\n",
    "        print(f\"{X_train.columns[i]:<8}\"+\"  \"\n",
    "              f\"{r.importances_mean[i]:.3f}\"\n",
    "              f\" +/- {r.importances_std[i]:.3f}\")"
   ]
  },
  {
   "cell_type": "code",
   "execution_count": null,
   "id": "85ec5547-9476-41a2-9e08-fdec9d4c59a6",
   "metadata": {},
   "outputs": [],
   "source": []
  },
  {
   "cell_type": "code",
   "execution_count": 48,
   "id": "c6c7027e-b880-4a0d-98f1-793dd019b7ed",
   "metadata": {},
   "outputs": [],
   "source": [
    "r = permutation_importance(model, X_train, y_train,\n",
    "                           n_repeats=30,\n",
    "                           random_state=0)"
   ]
  },
  {
   "cell_type": "code",
   "execution_count": 49,
   "id": "e77b59ab-1779-423e-964b-6b3887a8d8f7",
   "metadata": {},
   "outputs": [
    {
     "name": "stdout",
     "output_type": "stream",
     "text": [
      "Credit_History_1.0  0.060 +/- 0.012\n",
      "Credit_History_0.0  0.060 +/- 0.012\n",
      "Property_Area_Rural  0.004 +/- 0.002\n"
     ]
    }
   ],
   "source": [
    "for i in r.importances_mean.argsort()[::-1]:\n",
    "    if r.importances_mean[i] - 2 * r.importances_std[i] > 0:\n",
    "        print(f\"{X_train.columns[i]:<8}\"+\"  \"\n",
    "              f\"{r.importances_mean[i]:.3f}\"\n",
    "              f\" +/- {r.importances_std[i]:.3f}\")"
   ]
  },
  {
   "cell_type": "code",
   "execution_count": null,
   "id": "d40f804e-e6a2-4804-87b9-c58965e5ff3f",
   "metadata": {},
   "outputs": [],
   "source": []
  }
 ],
 "metadata": {
  "kernelspec": {
   "display_name": "Loan Application Environment",
   "language": "python",
   "name": "loan_env"
  },
  "language_info": {
   "codemirror_mode": {
    "name": "ipython",
    "version": 3
   },
   "file_extension": ".py",
   "mimetype": "text/x-python",
   "name": "python",
   "nbconvert_exporter": "python",
   "pygments_lexer": "ipython3",
   "version": "3.9.6"
  }
 },
 "nbformat": 4,
 "nbformat_minor": 5
}
