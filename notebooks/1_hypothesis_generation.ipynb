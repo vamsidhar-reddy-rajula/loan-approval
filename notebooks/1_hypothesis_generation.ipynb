{
 "cells": [
  {
   "cell_type": "markdown",
   "id": "30985f73-c2fe-4010-9836-27f1ec46b7c4",
   "metadata": {},
   "source": [
    "# Possible Predictors for Loan Approval/denial"
   ]
  },
  {
   "cell_type": "markdown",
   "id": "daeeaf30-566e-4213-9fe6-3b7bd43d10e0",
   "metadata": {},
   "source": [
    "1. Applicants with good salary\n",
    "2. Applicants with collateral\n",
    "3. Applicants in good standing with the bank (loyal and trustworthy)\n",
    "4. Applicants with less dependents\n",
    "5. Applicants having a credit history \n",
    "6. Applicants with higher applicant and co-applicant incomes\n",
    "7. Applicants with higher education level\n",
    "8. Properties in urban areas with high growth perspectives"
   ]
  },
  {
   "cell_type": "code",
   "execution_count": null,
   "id": "b15acdd2-ec81-45ca-815e-756f2bfc7e0e",
   "metadata": {},
   "outputs": [],
   "source": []
  }
 ],
 "metadata": {
  "kernelspec": {
   "display_name": "geo_env",
   "language": "python",
   "name": "geo_env"
  },
  "language_info": {
   "codemirror_mode": {
    "name": "ipython",
    "version": 3
   },
   "file_extension": ".py",
   "mimetype": "text/x-python",
   "name": "python",
   "nbconvert_exporter": "python",
   "pygments_lexer": "ipython3",
   "version": "3.9.6"
  }
 },
 "nbformat": 4,
 "nbformat_minor": 5
}
