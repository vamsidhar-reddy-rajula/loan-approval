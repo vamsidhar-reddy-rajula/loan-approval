{
 "cells": [
  {
   "cell_type": "code",
   "execution_count": null,
   "id": "bfd9061b-f48b-4c4b-a501-6c7685c23926",
   "metadata": {},
   "outputs": [],
   "source": []
  },
  {
   "cell_type": "code",
   "execution_count": 254,
   "id": "7f8dcdf1-cbdb-4fbb-873e-283ede808ad8",
   "metadata": {},
   "outputs": [],
   "source": [
    "import pandas as pd\n",
    "import numpy as np\n",
    "from matplotlib import pyplot as plt\n",
    "import seaborn as sns\n",
    "import plotly.express as px\n",
    "\n",
    "from sklearn.model_selection import train_test_split\n",
    "import statsmodels.api as sm\n",
    "\n",
    "from sklearn.base import BaseEstimator,TransformerMixin\n",
    "from sklearn.impute import KNNImputer\n",
    "from sklearn.pipeline import Pipeline,FeatureUnion\n",
    "from sklearn.preprocessing import OrdinalEncoder\n",
    "\n",
    "from sklearn.linear_model import LogisticRegression\n",
    "from sklearn.model_selection import GridSearchCV\n",
    "from sklearn.preprocessing import MinMaxScaler\n",
    "from sklearn.metrics import f1_score,auc,classification_report,confusion_matrix,roc_curve,roc_auc_score\n",
    "\n",
    "from sklearn.compose import ColumnTransformer\n",
    "\n",
    "\n",
    "from sklearn.pipeline import FeatureUnion\n",
    "from sklearn.preprocessing import OneHotEncoder\n",
    "\n",
    "from sklearn.preprocessing import FunctionTransformer\n",
    "\n",
    "from sklearn.preprocessing import LabelEncoder\n",
    "\n",
    "\n",
    "import joblib"
   ]
  },
  {
   "cell_type": "code",
   "execution_count": 189,
   "id": "cc668135-9218-4e3d-b3b4-5b3cc611d6f4",
   "metadata": {},
   "outputs": [],
   "source": [
    "df = pd.read_csv(r\"../data/raw/data.csv\")"
   ]
  },
  {
   "cell_type": "code",
   "execution_count": 190,
   "id": "e66df5cf-18dc-4d9d-a110-05048bf39e02",
   "metadata": {},
   "outputs": [
    {
     "data": {
      "text/html": [
       "<div>\n",
       "<style scoped>\n",
       "    .dataframe tbody tr th:only-of-type {\n",
       "        vertical-align: middle;\n",
       "    }\n",
       "\n",
       "    .dataframe tbody tr th {\n",
       "        vertical-align: top;\n",
       "    }\n",
       "\n",
       "    .dataframe thead th {\n",
       "        text-align: right;\n",
       "    }\n",
       "</style>\n",
       "<table border=\"1\" class=\"dataframe\">\n",
       "  <thead>\n",
       "    <tr style=\"text-align: right;\">\n",
       "      <th></th>\n",
       "      <th>Loan_ID</th>\n",
       "      <th>Gender</th>\n",
       "      <th>Married</th>\n",
       "      <th>Dependents</th>\n",
       "      <th>Education</th>\n",
       "      <th>Self_Employed</th>\n",
       "      <th>ApplicantIncome</th>\n",
       "      <th>CoapplicantIncome</th>\n",
       "      <th>LoanAmount</th>\n",
       "      <th>Loan_Amount_Term</th>\n",
       "      <th>Credit_History</th>\n",
       "      <th>Property_Area</th>\n",
       "      <th>Loan_Status</th>\n",
       "    </tr>\n",
       "  </thead>\n",
       "  <tbody>\n",
       "    <tr>\n",
       "      <th>0</th>\n",
       "      <td>LP001002</td>\n",
       "      <td>Male</td>\n",
       "      <td>No</td>\n",
       "      <td>0</td>\n",
       "      <td>Graduate</td>\n",
       "      <td>No</td>\n",
       "      <td>5849</td>\n",
       "      <td>0.0</td>\n",
       "      <td>NaN</td>\n",
       "      <td>360.0</td>\n",
       "      <td>1.0</td>\n",
       "      <td>Urban</td>\n",
       "      <td>Y</td>\n",
       "    </tr>\n",
       "    <tr>\n",
       "      <th>1</th>\n",
       "      <td>LP001003</td>\n",
       "      <td>Male</td>\n",
       "      <td>Yes</td>\n",
       "      <td>1</td>\n",
       "      <td>Graduate</td>\n",
       "      <td>No</td>\n",
       "      <td>4583</td>\n",
       "      <td>1508.0</td>\n",
       "      <td>128.0</td>\n",
       "      <td>360.0</td>\n",
       "      <td>1.0</td>\n",
       "      <td>Rural</td>\n",
       "      <td>N</td>\n",
       "    </tr>\n",
       "    <tr>\n",
       "      <th>2</th>\n",
       "      <td>LP001005</td>\n",
       "      <td>Male</td>\n",
       "      <td>Yes</td>\n",
       "      <td>0</td>\n",
       "      <td>Graduate</td>\n",
       "      <td>Yes</td>\n",
       "      <td>3000</td>\n",
       "      <td>0.0</td>\n",
       "      <td>66.0</td>\n",
       "      <td>360.0</td>\n",
       "      <td>1.0</td>\n",
       "      <td>Urban</td>\n",
       "      <td>Y</td>\n",
       "    </tr>\n",
       "    <tr>\n",
       "      <th>3</th>\n",
       "      <td>LP001006</td>\n",
       "      <td>Male</td>\n",
       "      <td>Yes</td>\n",
       "      <td>0</td>\n",
       "      <td>Not Graduate</td>\n",
       "      <td>No</td>\n",
       "      <td>2583</td>\n",
       "      <td>2358.0</td>\n",
       "      <td>120.0</td>\n",
       "      <td>360.0</td>\n",
       "      <td>1.0</td>\n",
       "      <td>Urban</td>\n",
       "      <td>Y</td>\n",
       "    </tr>\n",
       "    <tr>\n",
       "      <th>4</th>\n",
       "      <td>LP001008</td>\n",
       "      <td>Male</td>\n",
       "      <td>No</td>\n",
       "      <td>0</td>\n",
       "      <td>Graduate</td>\n",
       "      <td>No</td>\n",
       "      <td>6000</td>\n",
       "      <td>0.0</td>\n",
       "      <td>141.0</td>\n",
       "      <td>360.0</td>\n",
       "      <td>1.0</td>\n",
       "      <td>Urban</td>\n",
       "      <td>Y</td>\n",
       "    </tr>\n",
       "  </tbody>\n",
       "</table>\n",
       "</div>"
      ],
      "text/plain": [
       "    Loan_ID Gender Married Dependents     Education Self_Employed  \\\n",
       "0  LP001002   Male      No          0      Graduate            No   \n",
       "1  LP001003   Male     Yes          1      Graduate            No   \n",
       "2  LP001005   Male     Yes          0      Graduate           Yes   \n",
       "3  LP001006   Male     Yes          0  Not Graduate            No   \n",
       "4  LP001008   Male      No          0      Graduate            No   \n",
       "\n",
       "   ApplicantIncome  CoapplicantIncome  LoanAmount  Loan_Amount_Term  \\\n",
       "0             5849                0.0         NaN             360.0   \n",
       "1             4583             1508.0       128.0             360.0   \n",
       "2             3000                0.0        66.0             360.0   \n",
       "3             2583             2358.0       120.0             360.0   \n",
       "4             6000                0.0       141.0             360.0   \n",
       "\n",
       "   Credit_History Property_Area Loan_Status  \n",
       "0             1.0         Urban           Y  \n",
       "1             1.0         Rural           N  \n",
       "2             1.0         Urban           Y  \n",
       "3             1.0         Urban           Y  \n",
       "4             1.0         Urban           Y  "
      ]
     },
     "execution_count": 190,
     "metadata": {},
     "output_type": "execute_result"
    }
   ],
   "source": [
    "df.head()"
   ]
  },
  {
   "cell_type": "code",
   "execution_count": 191,
   "id": "7405d85a-15a3-418a-b18e-e5cf8652c60e",
   "metadata": {},
   "outputs": [],
   "source": [
    "cat_columns = ['Self_Employed',\n",
    " 'Dependents',\n",
    " 'Gender',\n",
    " 'Married',\n",
    " 'Education',\n",
    " 'Property_Area',\n",
    " 'Credit_History']\n",
    "\n",
    "num_columns = ['LoanAmount','ApplicantIncome','TotalApplicantIncome']"
   ]
  },
  {
   "cell_type": "code",
   "execution_count": 192,
   "id": "a6cf56d4-efaa-4007-b799-674b9f42155d",
   "metadata": {},
   "outputs": [],
   "source": [
    "class PipeCustomOrdinalEncoder(BaseEstimator,TransformerMixin):\n",
    "    '''\n",
    "    Converts categories into numbers for KNNImputing\n",
    "    '''\n",
    "    \n",
    "    def __init__(self):\n",
    "        self.ord_encoder = OrdinalEncoder(handle_unknown='use_encoded_value',unknown_value=1001)\n",
    "#         self.feature = feature_name\n",
    "    \n",
    "    def fit(self,X,y=None):\n",
    "        na_indices = X[X.isna()].index.values\n",
    "        not_na_rows = X[X.notna()]\n",
    "        not_na_np = not_na_rows.to_numpy().reshape(-1,1)\n",
    "        self.ord_encoder = self.ord_encoder.fit(not_na_np)\n",
    "        return self\n",
    "    \n",
    "    def transform(self,X,y=None):\n",
    "        na_indices = X[X.isna()].index.values\n",
    "        not_na_rows = X[X.notna()]\n",
    "        not_na_np = not_na_rows.to_numpy().reshape(-1,1)\n",
    "        transformed_data = self.ord_encoder.transform(not_na_np)\n",
    "        not_na_encode = pd.Series(transformed_data.flatten(),index = not_na_rows.index.values)\n",
    "        return pd.DataFrame(pd.concat([not_na_encode,X[X.isna()]]).sort_index())\n",
    "    \n",
    "    def inverse_transform(self,X,y=None):\n",
    "        col = X.to_numpy().reshape(-1,1)\n",
    "        return self.ord_encoder.inverse_transform(col)"
   ]
  },
  {
   "cell_type": "code",
   "execution_count": 193,
   "id": "fa776765-5f31-4a99-beab-066eb34137e9",
   "metadata": {},
   "outputs": [],
   "source": [
    "class CustomKNNImputer():\n",
    "    \n",
    "    def __init__(self,n_neighbors):\n",
    "        self.imputer = KNNImputer(n_neighbors=n_neighbors)\n",
    "    \n",
    "    def fit(self,X,y=None):\n",
    "        self.imputer = self.imputer.fit(X)\n",
    "        return self.imputer \n",
    "    \n",
    "    def transform(self,X,y=None):\n",
    "        return pd.DataFrame(self.imputer.transform(X),columns=X.columns)\n",
    "    \n",
    "    def fit_transform(self,X,y=None):\n",
    "        self.imputer = self.imputer.fit(X)\n",
    "        return self.transform(X,y)\n",
    "    "
   ]
  },
  {
   "cell_type": "code",
   "execution_count": 194,
   "id": "716ae197-b757-4503-9984-64d84a4e8932",
   "metadata": {},
   "outputs": [],
   "source": [
    "def return_df(x,cols=None):\n",
    "    return pd.DataFrame(x,columns=cols)"
   ]
  },
  {
   "cell_type": "code",
   "execution_count": 215,
   "id": "50469970-9f40-4460-b4c7-383ab929016a",
   "metadata": {},
   "outputs": [],
   "source": [
    "def transform_dataset(data):\n",
    "    data.loc[:,\"LoanAmount\"] = np.log(data.LoanAmount)\n",
    "    data.loc[:,\"TotalApplicantIncome\"] = np.log(data.ApplicantIncome+data.CoapplicantIncome)\n",
    "    data.loc[:,\"ApplicantIncome\"] = np.log(data.ApplicantIncome)\n",
    "    data = data.drop(columns=['CoapplicantIncome','Loan_ID','Loan_Amount_Term'])\n",
    "    return data"
   ]
  },
  {
   "cell_type": "code",
   "execution_count": 216,
   "id": "186cf2a6-4dfe-4767-9526-9a0c14f6c33a",
   "metadata": {},
   "outputs": [],
   "source": [
    "transformations = FunctionTransformer(transform_dataset)\n",
    "\n",
    "\n",
    "cat_preprocess = ColumnTransformer(transformers=[\n",
    "    ('employed',PipeCustomOrdinalEncoder(),'Self_Employed'),\n",
    "    ('dependents',PipeCustomOrdinalEncoder(),'Dependents'),\n",
    "#     ('loan_amount',CustomOrdinalEncoder(),'Loan_Amount_Term'),\n",
    "    ('married',PipeCustomOrdinalEncoder(),'Married'),\n",
    "    ('gender',PipeCustomOrdinalEncoder(),'Gender'),\n",
    "    ('education',PipeCustomOrdinalEncoder(),'Education'),\n",
    "    ('property',PipeCustomOrdinalEncoder(),'Property_Area'),\n",
    "    ('credit-history',PipeCustomOrdinalEncoder(),'Credit_History')\n",
    "                                                ])\n",
    "\n",
    "categories = Pipeline(steps=[\n",
    "    ('cat',cat_preprocess),\n",
    "    ('cat_names',FunctionTransformer(return_df,kw_args={\"cols\":cat_columns}))\n",
    "])\n",
    "\n",
    "num_preprocess = ColumnTransformer(\n",
    "transformers=[\n",
    "    ('num_scaling',MinMaxScaler(),num_columns)\n",
    "])\n",
    "\n",
    "numerical = Pipeline(steps=[\n",
    "    ('num',num_preprocess),\n",
    "    ('num_names',FunctionTransformer(return_df,kw_args={\"cols\":num_columns}))\n",
    "])\n",
    "\n",
    "impute_preprocess = Pipeline(steps=[\n",
    "    ('feature_union',FeatureUnion(transformer_list=[\n",
    "        ('cat_pipe',categories),\n",
    "        ('num_pipe',numerical)\n",
    "    ])),\n",
    "    ('test',FunctionTransformer(return_df,kw_args={\"cols\":cat_columns+num_columns})),\n",
    "    ('imputer',CustomKNNImputer(n_neighbors=1,))\n",
    "])\n",
    "\n",
    "one_hot_encoding_preprocess = FeatureUnion(transformer_list=[\n",
    "        ('cat_features',ColumnTransformer(\n",
    "            transformers=[('categorical',OneHotEncoder(),cat_columns),]\n",
    "        )),\n",
    "        ('num_features',ColumnTransformer(\n",
    "            transformers=[('numeric','passthrough',num_columns),]\n",
    "        ))\n",
    "    ])\n",
    "\n",
    "preprocessing = Pipeline(steps=[\n",
    "    ('impute',impute_preprocess),\n",
    "    ('one_hot_encoded',one_hot_encoding_preprocess)\n",
    "])\n",
    "\n",
    "pipe = Pipeline(steps=[\n",
    "    ('transformations',transformations),\n",
    "    ('preprocess',preprocessing),\n",
    "    ('model',LogisticRegression(random_state=123,fit_intercept=True,max_iter=1000))\n",
    "],verbose=True)\n",
    "\n"
   ]
  },
  {
   "cell_type": "code",
   "execution_count": 217,
   "id": "3ad3e7e0-cb16-4b53-846c-ebe3dd6779bb",
   "metadata": {},
   "outputs": [],
   "source": [
    "X_train,X_test,y_train,y_test = train_test_split(df.drop(columns=['Loan_Status']),\n",
    "                                                 df['Loan_Status'],stratify=df['Loan_Status'],random_state=60,train_size=0.6)"
   ]
  },
  {
   "cell_type": "code",
   "execution_count": 218,
   "id": "d992d710-8eb3-4dd9-9a23-309c90bfed32",
   "metadata": {},
   "outputs": [],
   "source": [
    "X_train = X_train.sort_index()\n",
    "y_train = y_train.sort_index()\n",
    "X_test = X_test.sort_index()\n",
    "y_test = y_test.sort_index()"
   ]
  },
  {
   "cell_type": "code",
   "execution_count": 220,
   "id": "4e0938aa-cd38-4a32-a9e4-faf352e8db30",
   "metadata": {
    "tags": []
   },
   "outputs": [],
   "source": [
    "label_encoder = LabelEncoder()\n",
    "label_encoder = label_encoder.fit(y_train)\n",
    "y_train = label_encoder.transform(y_train)\n",
    "y_test = label_encoder.transform(y_test)"
   ]
  },
  {
   "cell_type": "code",
   "execution_count": 221,
   "id": "ae662dc0-6ea1-40b9-bf6c-4eb9bbdbfa9c",
   "metadata": {},
   "outputs": [],
   "source": [
    "params = {}"
   ]
  },
  {
   "cell_type": "code",
   "execution_count": 222,
   "id": "d43313df-144c-4cb3-b92c-3bed04150306",
   "metadata": {
    "collapsed": true,
    "jupyter": {
     "outputs_hidden": true
    },
    "tags": []
   },
   "outputs": [
    {
     "name": "stderr",
     "output_type": "stream",
     "text": [
      "D:\\Anaconda\\envs\\geo_env\\lib\\site-packages\\pandas\\core\\indexing.py:1773: SettingWithCopyWarning: \n",
      "A value is trying to be set on a copy of a slice from a DataFrame.\n",
      "Try using .loc[row_indexer,col_indexer] = value instead\n",
      "\n",
      "See the caveats in the documentation: https://pandas.pydata.org/pandas-docs/stable/user_guide/indexing.html#returning-a-view-versus-a-copy\n",
      "  self._setitem_single_column(ilocs[0], value, pi)\n",
      "D:\\Anaconda\\envs\\geo_env\\lib\\site-packages\\pandas\\core\\frame.py:3607: SettingWithCopyWarning: \n",
      "A value is trying to be set on a copy of a slice from a DataFrame.\n",
      "Try using .loc[row_indexer,col_indexer] = value instead\n",
      "\n",
      "See the caveats in the documentation: https://pandas.pydata.org/pandas-docs/stable/user_guide/indexing.html#returning-a-view-versus-a-copy\n",
      "  self._set_item(key, value)\n"
     ]
    },
    {
     "name": "stdout",
     "output_type": "stream",
     "text": [
      "[Pipeline] ... (step 1 of 3) Processing transformations, total=   0.0s\n",
      "[Pipeline] ........ (step 2 of 3) Processing preprocess, total=   0.2s\n",
      "[Pipeline] ............. (step 3 of 3) Processing model, total=   0.1s\n",
      "[Pipeline] ... (step 1 of 3) Processing transformations, total=   0.0s\n",
      "[Pipeline] ........ (step 2 of 3) Processing preprocess, total=   0.1s"
     ]
    },
    {
     "name": "stderr",
     "output_type": "stream",
     "text": [
      "D:\\Anaconda\\envs\\geo_env\\lib\\site-packages\\pandas\\core\\indexing.py:1773: SettingWithCopyWarning: \n",
      "A value is trying to be set on a copy of a slice from a DataFrame.\n",
      "Try using .loc[row_indexer,col_indexer] = value instead\n",
      "\n",
      "See the caveats in the documentation: https://pandas.pydata.org/pandas-docs/stable/user_guide/indexing.html#returning-a-view-versus-a-copy\n",
      "  self._setitem_single_column(ilocs[0], value, pi)\n",
      "D:\\Anaconda\\envs\\geo_env\\lib\\site-packages\\pandas\\core\\frame.py:3607: SettingWithCopyWarning: \n",
      "A value is trying to be set on a copy of a slice from a DataFrame.\n",
      "Try using .loc[row_indexer,col_indexer] = value instead\n",
      "\n",
      "See the caveats in the documentation: https://pandas.pydata.org/pandas-docs/stable/user_guide/indexing.html#returning-a-view-versus-a-copy\n",
      "  self._set_item(key, value)\n",
      "D:\\Anaconda\\envs\\geo_env\\lib\\site-packages\\pandas\\core\\indexing.py:1773: SettingWithCopyWarning: \n",
      "A value is trying to be set on a copy of a slice from a DataFrame.\n",
      "Try using .loc[row_indexer,col_indexer] = value instead\n",
      "\n",
      "See the caveats in the documentation: https://pandas.pydata.org/pandas-docs/stable/user_guide/indexing.html#returning-a-view-versus-a-copy\n",
      "  self._setitem_single_column(ilocs[0], value, pi)\n",
      "D:\\Anaconda\\envs\\geo_env\\lib\\site-packages\\pandas\\core\\frame.py:3607: SettingWithCopyWarning: \n",
      "A value is trying to be set on a copy of a slice from a DataFrame.\n",
      "Try using .loc[row_indexer,col_indexer] = value instead\n",
      "\n",
      "See the caveats in the documentation: https://pandas.pydata.org/pandas-docs/stable/user_guide/indexing.html#returning-a-view-versus-a-copy\n",
      "  self._set_item(key, value)\n"
     ]
    },
    {
     "name": "stdout",
     "output_type": "stream",
     "text": [
      "\n",
      "[Pipeline] ............. (step 3 of 3) Processing model, total=   0.0s\n",
      "[Pipeline] ... (step 1 of 3) Processing transformations, total=   0.0s\n"
     ]
    },
    {
     "name": "stderr",
     "output_type": "stream",
     "text": [
      "D:\\Anaconda\\envs\\geo_env\\lib\\site-packages\\pandas\\core\\indexing.py:1773: SettingWithCopyWarning: \n",
      "A value is trying to be set on a copy of a slice from a DataFrame.\n",
      "Try using .loc[row_indexer,col_indexer] = value instead\n",
      "\n",
      "See the caveats in the documentation: https://pandas.pydata.org/pandas-docs/stable/user_guide/indexing.html#returning-a-view-versus-a-copy\n",
      "  self._setitem_single_column(ilocs[0], value, pi)\n",
      "D:\\Anaconda\\envs\\geo_env\\lib\\site-packages\\pandas\\core\\frame.py:3607: SettingWithCopyWarning: \n",
      "A value is trying to be set on a copy of a slice from a DataFrame.\n",
      "Try using .loc[row_indexer,col_indexer] = value instead\n",
      "\n",
      "See the caveats in the documentation: https://pandas.pydata.org/pandas-docs/stable/user_guide/indexing.html#returning-a-view-versus-a-copy\n",
      "  self._set_item(key, value)\n",
      "D:\\Anaconda\\envs\\geo_env\\lib\\site-packages\\pandas\\core\\indexing.py:1773: SettingWithCopyWarning: \n",
      "A value is trying to be set on a copy of a slice from a DataFrame.\n",
      "Try using .loc[row_indexer,col_indexer] = value instead\n",
      "\n",
      "See the caveats in the documentation: https://pandas.pydata.org/pandas-docs/stable/user_guide/indexing.html#returning-a-view-versus-a-copy\n",
      "  self._setitem_single_column(ilocs[0], value, pi)\n",
      "D:\\Anaconda\\envs\\geo_env\\lib\\site-packages\\pandas\\core\\frame.py:3607: SettingWithCopyWarning: \n",
      "A value is trying to be set on a copy of a slice from a DataFrame.\n",
      "Try using .loc[row_indexer,col_indexer] = value instead\n",
      "\n",
      "See the caveats in the documentation: https://pandas.pydata.org/pandas-docs/stable/user_guide/indexing.html#returning-a-view-versus-a-copy\n",
      "  self._set_item(key, value)\n"
     ]
    },
    {
     "name": "stdout",
     "output_type": "stream",
     "text": [
      "[Pipeline] ........ (step 2 of 3) Processing preprocess, total=   0.1s\n",
      "[Pipeline] ............. (step 3 of 3) Processing model, total=   0.0s\n",
      "[Pipeline] ... (step 1 of 3) Processing transformations, total=   0.0s\n",
      "[Pipeline] ........ (step 2 of 3) Processing preprocess, total=   0.1s\n",
      "[Pipeline] ............. (step 3 of 3) Processing model, total=   0.0s"
     ]
    },
    {
     "name": "stderr",
     "output_type": "stream",
     "text": [
      "D:\\Anaconda\\envs\\geo_env\\lib\\site-packages\\pandas\\core\\indexing.py:1773: SettingWithCopyWarning: \n",
      "A value is trying to be set on a copy of a slice from a DataFrame.\n",
      "Try using .loc[row_indexer,col_indexer] = value instead\n",
      "\n",
      "See the caveats in the documentation: https://pandas.pydata.org/pandas-docs/stable/user_guide/indexing.html#returning-a-view-versus-a-copy\n",
      "  self._setitem_single_column(ilocs[0], value, pi)\n",
      "D:\\Anaconda\\envs\\geo_env\\lib\\site-packages\\pandas\\core\\frame.py:3607: SettingWithCopyWarning: \n",
      "A value is trying to be set on a copy of a slice from a DataFrame.\n",
      "Try using .loc[row_indexer,col_indexer] = value instead\n",
      "\n",
      "See the caveats in the documentation: https://pandas.pydata.org/pandas-docs/stable/user_guide/indexing.html#returning-a-view-versus-a-copy\n",
      "  self._set_item(key, value)\n",
      "D:\\Anaconda\\envs\\geo_env\\lib\\site-packages\\pandas\\core\\indexing.py:1773: SettingWithCopyWarning: \n",
      "A value is trying to be set on a copy of a slice from a DataFrame.\n",
      "Try using .loc[row_indexer,col_indexer] = value instead\n",
      "\n",
      "See the caveats in the documentation: https://pandas.pydata.org/pandas-docs/stable/user_guide/indexing.html#returning-a-view-versus-a-copy\n",
      "  self._setitem_single_column(ilocs[0], value, pi)\n",
      "D:\\Anaconda\\envs\\geo_env\\lib\\site-packages\\pandas\\core\\frame.py:3607: SettingWithCopyWarning: \n",
      "A value is trying to be set on a copy of a slice from a DataFrame.\n",
      "Try using .loc[row_indexer,col_indexer] = value instead\n",
      "\n",
      "See the caveats in the documentation: https://pandas.pydata.org/pandas-docs/stable/user_guide/indexing.html#returning-a-view-versus-a-copy\n",
      "  self._set_item(key, value)\n"
     ]
    },
    {
     "name": "stdout",
     "output_type": "stream",
     "text": [
      "\n",
      "[Pipeline] ... (step 1 of 3) Processing transformations, total=   0.0s\n",
      "[Pipeline] ........ (step 2 of 3) Processing preprocess, total=   0.1s"
     ]
    },
    {
     "name": "stderr",
     "output_type": "stream",
     "text": [
      "D:\\Anaconda\\envs\\geo_env\\lib\\site-packages\\pandas\\core\\indexing.py:1773: SettingWithCopyWarning: \n",
      "A value is trying to be set on a copy of a slice from a DataFrame.\n",
      "Try using .loc[row_indexer,col_indexer] = value instead\n",
      "\n",
      "See the caveats in the documentation: https://pandas.pydata.org/pandas-docs/stable/user_guide/indexing.html#returning-a-view-versus-a-copy\n",
      "  self._setitem_single_column(ilocs[0], value, pi)\n",
      "D:\\Anaconda\\envs\\geo_env\\lib\\site-packages\\pandas\\core\\frame.py:3607: SettingWithCopyWarning: \n",
      "A value is trying to be set on a copy of a slice from a DataFrame.\n",
      "Try using .loc[row_indexer,col_indexer] = value instead\n",
      "\n",
      "See the caveats in the documentation: https://pandas.pydata.org/pandas-docs/stable/user_guide/indexing.html#returning-a-view-versus-a-copy\n",
      "  self._set_item(key, value)\n",
      "D:\\Anaconda\\envs\\geo_env\\lib\\site-packages\\pandas\\core\\indexing.py:1773: SettingWithCopyWarning: \n",
      "A value is trying to be set on a copy of a slice from a DataFrame.\n",
      "Try using .loc[row_indexer,col_indexer] = value instead\n",
      "\n",
      "See the caveats in the documentation: https://pandas.pydata.org/pandas-docs/stable/user_guide/indexing.html#returning-a-view-versus-a-copy\n",
      "  self._setitem_single_column(ilocs[0], value, pi)\n",
      "D:\\Anaconda\\envs\\geo_env\\lib\\site-packages\\pandas\\core\\frame.py:3607: SettingWithCopyWarning: \n",
      "A value is trying to be set on a copy of a slice from a DataFrame.\n",
      "Try using .loc[row_indexer,col_indexer] = value instead\n",
      "\n",
      "See the caveats in the documentation: https://pandas.pydata.org/pandas-docs/stable/user_guide/indexing.html#returning-a-view-versus-a-copy\n",
      "  self._set_item(key, value)\n",
      "D:\\Anaconda\\envs\\geo_env\\lib\\site-packages\\pandas\\core\\indexing.py:1773: SettingWithCopyWarning: \n",
      "A value is trying to be set on a copy of a slice from a DataFrame.\n",
      "Try using .loc[row_indexer,col_indexer] = value instead\n",
      "\n",
      "See the caveats in the documentation: https://pandas.pydata.org/pandas-docs/stable/user_guide/indexing.html#returning-a-view-versus-a-copy\n",
      "  self._setitem_single_column(ilocs[0], value, pi)\n",
      "D:\\Anaconda\\envs\\geo_env\\lib\\site-packages\\pandas\\core\\frame.py:3607: SettingWithCopyWarning: \n",
      "A value is trying to be set on a copy of a slice from a DataFrame.\n",
      "Try using .loc[row_indexer,col_indexer] = value instead\n",
      "\n",
      "See the caveats in the documentation: https://pandas.pydata.org/pandas-docs/stable/user_guide/indexing.html#returning-a-view-versus-a-copy\n",
      "  self._set_item(key, value)\n"
     ]
    },
    {
     "name": "stdout",
     "output_type": "stream",
     "text": [
      "\n",
      "[Pipeline] ............. (step 3 of 3) Processing model, total=   0.0s\n",
      "[Pipeline] ... (step 1 of 3) Processing transformations, total=   0.0s\n",
      "[Pipeline] ........ (step 2 of 3) Processing preprocess, total=   0.1s\n",
      "[Pipeline] ............. (step 3 of 3) Processing model, total=   0.0s\n"
     ]
    }
   ],
   "source": [
    "model = GridSearchCV(pipe,param_grid=params)\n",
    "model = model.fit(X_train,y_train)"
   ]
  },
  {
   "cell_type": "code",
   "execution_count": 223,
   "id": "8c55bd43-0afd-466d-a7ff-375cb65cda1b",
   "metadata": {},
   "outputs": [
    {
     "data": {
      "text/plain": [
       "0.861646234676007"
      ]
     },
     "execution_count": 223,
     "metadata": {},
     "output_type": "execute_result"
    }
   ],
   "source": [
    "f1_score(y_train,model.predict(X_train))"
   ]
  },
  {
   "cell_type": "code",
   "execution_count": 224,
   "id": "ea47bb34-a9bc-47ee-b23f-18cce8575b8f",
   "metadata": {},
   "outputs": [
    {
     "data": {
      "text/plain": [
       "0.8693333333333333"
      ]
     },
     "execution_count": 224,
     "metadata": {},
     "output_type": "execute_result"
    }
   ],
   "source": [
    "f1_score(y_test,model.predict(X_test))"
   ]
  },
  {
   "cell_type": "code",
   "execution_count": 247,
   "id": "de9a3cc2-e8da-4deb-a2b6-0ca436e361d2",
   "metadata": {},
   "outputs": [
    {
     "name": "stdout",
     "output_type": "stream",
     "text": [
      "              precision    recall  f1-score   support\n",
      "\n",
      "           0       0.92      0.30      0.45        77\n",
      "           1       0.76      0.99      0.86       169\n",
      "\n",
      "    accuracy                           0.77       246\n",
      "   macro avg       0.84      0.64      0.65       246\n",
      "weighted avg       0.81      0.77      0.73       246\n",
      "\n"
     ]
    }
   ],
   "source": [
    "print(classification_report(y_test,model.predict(X_test)))"
   ]
  },
  {
   "cell_type": "code",
   "execution_count": 249,
   "id": "fee159e6-d8da-4019-bbe1-5997a1d9af8e",
   "metadata": {},
   "outputs": [
    {
     "name": "stdout",
     "output_type": "stream",
     "text": [
      "[[ 23  54]\n",
      " [  2 167]]\n"
     ]
    }
   ],
   "source": [
    "print(confusion_matrix(y_test,model.predict(X_test)))"
   ]
  },
  {
   "cell_type": "code",
   "execution_count": 266,
   "id": "600a102f-e89d-4daa-8d75-cb384ab583a1",
   "metadata": {},
   "outputs": [
    {
     "data": {
      "image/png": "[encoded data removed]",
      "text/plain": [
       "<Figure size 432x288 with 1 Axes>"
      ]
     },
     "metadata": {
      "needs_background": "light"
     },
     "output_type": "display_data"
    }
   ],
   "source": [
    "y_pred_proba = model.predict_proba(X_test)[:,1]\n",
    "fpr, tpr, _ = roc_curve(y_test,  y_pred_proba)\n",
    "auc = roc_auc_score(y_test, y_pred_proba)\n",
    "plt.plot(fpr,tpr,label=\"data 1, auc=\"+str(auc))\n",
    "plt.legend(loc=4)\n",
    "plt.show()"
   ]
  },
  {
   "cell_type": "code",
   "execution_count": 260,
   "id": "9f2f5c87-55ee-4cb4-87f5-033078954df7",
   "metadata": {},
   "outputs": [
    {
     "name": "stdout",
     "output_type": "stream",
     "text": [
      "[1.94664444 0.94664444 0.92575128 0.92203559 0.91846689 0.9030831\n",
      " 0.90292366 0.90221544 0.90213361 0.89635603 0.8872382  0.8864825\n",
      " 0.87853774 0.87806116 0.87684346 0.87126467 0.86895535 0.8673197\n",
      " 0.85221692 0.85176746 0.84653502 0.8391011  0.83345625 0.8309759\n",
      " 0.82687704 0.8204226  0.80876209 0.80324335 0.79713405 0.79584559\n",
      " 0.79457665 0.78287307 0.7819285  0.7816005  0.7789039  0.76873907\n",
      " 0.76837915 0.7646719  0.76324399 0.76217336 0.75521779 0.75501657\n",
      " 0.75045395 0.73857386 0.73837129 0.73775059 0.7360423  0.72569039\n",
      " 0.7179991  0.71717776 0.70938003 0.70565788 0.68893862 0.6821778\n",
      " 0.67380206 0.63141424 0.59522698 0.59124583 0.58476925 0.58019689\n",
      " 0.55100502 0.48332477 0.46466384 0.4614696  0.34871209 0.2720232\n",
      " 0.27038225 0.22263372 0.21672204 0.20099761 0.17593574 0.14554205\n",
      " 0.13547439 0.13212545 0.12943077 0.12476214 0.10392081 0.04837853]\n"
     ]
    }
   ],
   "source": [
    "from sklearn import metrics\n",
    "preds = model.predict_proba(X_test)\n",
    "tpr, tpr, thresholds = roc_curve(y_test,preds[:,1])\n",
    "print (thresholds)\n",
    "\n",
    "accuracy_ls = []\n",
    "for thres in thresholds:\n",
    "    y_pred = np.where(preds[:,1]>thres,1,0)\n",
    "    # Apply desired utility function to y_preds, for example accuracy.\n",
    "    accuracy_ls.append(f1_score(y_test, y_pred))"
   ]
  },
  {
   "cell_type": "code",
   "execution_count": 225,
   "id": "dfde6dda-ae26-440a-be23-c9df8767ad83",
   "metadata": {},
   "outputs": [
    {
     "data": {
      "text/plain": [
       "['../models/1_base_model.sav']"
      ]
     },
     "execution_count": 225,
     "metadata": {},
     "output_type": "execute_result"
    }
   ],
   "source": [
    "joblib.dump(model,r\"../models/1_base_model.sav\")"
   ]
  },
  {
   "cell_type": "code",
   "execution_count": 268,
   "id": "3867921b-8da2-49c2-8294-a6ea402342f9",
   "metadata": {},
   "outputs": [],
   "source": [
    "predict= df.sample(n=1,random_state=330)"
   ]
  },
  {
   "cell_type": "code",
   "execution_count": 269,
   "id": "df637ae7-a1fa-435f-94c2-ded6b4e9d053",
   "metadata": {},
   "outputs": [
    {
     "data": {
      "text/html": [
       "<div>\n",
       "<style scoped>\n",
       "    .dataframe tbody tr th:only-of-type {\n",
       "        vertical-align: middle;\n",
       "    }\n",
       "\n",
       "    .dataframe tbody tr th {\n",
       "        vertical-align: top;\n",
       "    }\n",
       "\n",
       "    .dataframe thead th {\n",
       "        text-align: right;\n",
       "    }\n",
       "</style>\n",
       "<table border=\"1\" class=\"dataframe\">\n",
       "  <thead>\n",
       "    <tr style=\"text-align: right;\">\n",
       "      <th></th>\n",
       "      <th>Loan_ID</th>\n",
       "      <th>Gender</th>\n",
       "      <th>Married</th>\n",
       "      <th>Dependents</th>\n",
       "      <th>Education</th>\n",
       "      <th>Self_Employed</th>\n",
       "      <th>ApplicantIncome</th>\n",
       "      <th>CoapplicantIncome</th>\n",
       "      <th>LoanAmount</th>\n",
       "      <th>Loan_Amount_Term</th>\n",
       "      <th>Credit_History</th>\n",
       "      <th>Property_Area</th>\n",
       "      <th>Loan_Status</th>\n",
       "    </tr>\n",
       "  </thead>\n",
       "  <tbody>\n",
       "    <tr>\n",
       "      <th>283</th>\n",
       "      <td>LP001917</td>\n",
       "      <td>Female</td>\n",
       "      <td>No</td>\n",
       "      <td>0</td>\n",
       "      <td>Graduate</td>\n",
       "      <td>No</td>\n",
       "      <td>1811</td>\n",
       "      <td>1666.0</td>\n",
       "      <td>54.0</td>\n",
       "      <td>360.0</td>\n",
       "      <td>1.0</td>\n",
       "      <td>Urban</td>\n",
       "      <td>Y</td>\n",
       "    </tr>\n",
       "  </tbody>\n",
       "</table>\n",
       "</div>"
      ],
      "text/plain": [
       "      Loan_ID  Gender Married Dependents Education Self_Employed  \\\n",
       "283  LP001917  Female      No          0  Graduate            No   \n",
       "\n",
       "     ApplicantIncome  CoapplicantIncome  LoanAmount  Loan_Amount_Term  \\\n",
       "283             1811             1666.0        54.0             360.0   \n",
       "\n",
       "     Credit_History Property_Area Loan_Status  \n",
       "283             1.0         Urban           Y  "
      ]
     },
     "execution_count": 269,
     "metadata": {},
     "output_type": "execute_result"
    }
   ],
   "source": [
    "predict"
   ]
  },
  {
   "cell_type": "code",
   "execution_count": 270,
   "id": "c6ef829e-9b5d-4009-8c3d-0129f3d5ea07",
   "metadata": {},
   "outputs": [
    {
     "data": {
      "text/plain": [
       "array([1])"
      ]
     },
     "execution_count": 270,
     "metadata": {},
     "output_type": "execute_result"
    }
   ],
   "source": [
    "model.predict(predict.drop(columns=[\"Loan_Status\"]))"
   ]
  },
  {
   "cell_type": "code",
   "execution_count": 272,
   "id": "1204e4f6-ea5a-4caa-b8c6-f877330dd02e",
   "metadata": {},
   "outputs": [
    {
     "data": {
      "text/plain": [
       "'{\"Loan_ID\":{\"283\":\"LP001917\"},\"Gender\":{\"283\":\"Female\"},\"Married\":{\"283\":\"No\"},\"Dependents\":{\"283\":\"0\"},\"Education\":{\"283\":\"Graduate\"},\"Self_Employed\":{\"283\":\"No\"},\"ApplicantIncome\":{\"283\":1811},\"CoapplicantIncome\":{\"283\":1666.0},\"LoanAmount\":{\"283\":54.0},\"Loan_Amount_Term\":{\"283\":360.0},\"Credit_History\":{\"283\":1.0},\"Property_Area\":{\"283\":\"Urban\"},\"Loan_Status\":{\"283\":\"Y\"}}'"
      ]
     },
     "execution_count": 272,
     "metadata": {},
     "output_type": "execute_result"
    }
   ],
   "source": [
    "predict.to_json()"
   ]
  },
  {
   "cell_type": "code",
   "execution_count": null,
   "id": "e58fc368-5fee-4692-9e90-2e32168ea485",
   "metadata": {},
   "outputs": [],
   "source": []
  }
 ],
 "metadata": {
  "kernelspec": {
   "display_name": "geo_env",
   "language": "python",
   "name": "geo_env"
  },
  "language_info": {
   "codemirror_mode": {
    "name": "ipython",
    "version": 3
   },
   "file_extension": ".py",
   "mimetype": "text/x-python",
   "name": "python",
   "nbconvert_exporter": "python",
   "pygments_lexer": "ipython3",
   "version": "3.9.6"
  }
 },
 "nbformat": 4,
 "nbformat_minor": 5
}
