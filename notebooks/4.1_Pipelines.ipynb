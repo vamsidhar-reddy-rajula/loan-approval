{
 "cells": [
  {
   "cell_type": "code",
   "execution_count": null,
   "id": "bfd9061b-f48b-4c4b-a501-6c7685c23926",
   "metadata": {},
   "outputs": [],
   "source": []
  },
  {
   "cell_type": "code",
   "execution_count": 1,
   "id": "7f8dcdf1-cbdb-4fbb-873e-283ede808ad8",
   "metadata": {},
   "outputs": [],
   "source": [
    "import pandas as pd\n",
    "import numpy as np\n",
    "from matplotlib import pyplot as plt\n",
    "import seaborn as sns\n",
    "import plotly.express as px\n",
    "\n",
    "from sklearn.model_selection import train_test_split\n",
    "import statsmodels.api as sm\n",
    "\n",
    "from sklearn.base import BaseEstimator,TransformerMixin\n",
    "from sklearn.impute import KNNImputer\n",
    "from sklearn.pipeline import Pipeline,FeatureUnion\n",
    "from sklearn.preprocessing import OrdinalEncoder\n",
    "\n",
    "from sklearn.linear_model import LogisticRegression\n",
    "from sklearn.model_selection import GridSearchCV\n",
    "from sklearn.preprocessing import MinMaxScaler\n",
    "from sklearn.metrics import f1_score\n",
    "\n",
    "from sklearn.compose import ColumnTransformer\n",
    "\n",
    "\n",
    "from sklearn.pipeline import FeatureUnion\n",
    "from sklearn.preprocessing import OneHotEncoder\n",
    "\n",
    "from sklearn.preprocessing import FunctionTransformer\n",
    "\n",
    "from sklearn.preprocessing import LabelEncoder"
   ]
  },
  {
   "cell_type": "code",
   "execution_count": 2,
   "id": "cc668135-9218-4e3d-b3b4-5b3cc611d6f4",
   "metadata": {},
   "outputs": [],
   "source": [
    "df = pd.read_csv(r\"../data/interim/2_feature_engineered/1_base_data.csv\")"
   ]
  },
  {
   "cell_type": "code",
   "execution_count": 6,
   "id": "7405d85a-15a3-418a-b18e-e5cf8652c60e",
   "metadata": {},
   "outputs": [],
   "source": [
    "cat_columns = ['Self_Employed',\n",
    " 'Dependents',\n",
    " 'Gender',\n",
    " 'Married',\n",
    " 'Education',\n",
    " 'Property_Area',\n",
    " 'Credit_History']\n",
    "\n",
    "num_columns = ['LoanAmount','ApplicantIncome','TotalApplicantIncome']"
   ]
  },
  {
   "cell_type": "code",
   "execution_count": 3,
   "id": "a6cf56d4-efaa-4007-b799-674b9f42155d",
   "metadata": {},
   "outputs": [],
   "source": [
    "class PipeCustomOrdinalEncoder(BaseEstimator,TransformerMixin):\n",
    "    '''\n",
    "    Converts categories into numbers for KNNImputing\n",
    "    '''\n",
    "    \n",
    "    def __init__(self):\n",
    "        self.ord_encoder = OrdinalEncoder(handle_unknown='use_encoded_value',unknown_value=1001)\n",
    "#         self.feature = feature_name\n",
    "    \n",
    "    def fit(self,X,y=None):\n",
    "        na_indices = X[X.isna()].index.values\n",
    "        not_na_rows = X[X.notna()]\n",
    "        not_na_np = not_na_rows.to_numpy().reshape(-1,1)\n",
    "        self.ord_encoder = self.ord_encoder.fit(not_na_np)\n",
    "        return self\n",
    "    \n",
    "    def transform(self,X,y=None):\n",
    "        na_indices = X[X.isna()].index.values\n",
    "        not_na_rows = X[X.notna()]\n",
    "        not_na_np = not_na_rows.to_numpy().reshape(-1,1)\n",
    "        transformed_data = self.ord_encoder.transform(not_na_np)\n",
    "        not_na_encode = pd.Series(transformed_data.flatten(),index = not_na_rows.index.values)\n",
    "        return pd.DataFrame(pd.concat([not_na_encode,X[X.isna()]]).sort_index())\n",
    "    \n",
    "    def inverse_transform(self,X,y=None):\n",
    "        col = X.to_numpy().reshape(-1,1)\n",
    "        return self.ord_encoder.inverse_transform(col)"
   ]
  },
  {
   "cell_type": "code",
   "execution_count": 4,
   "id": "fa776765-5f31-4a99-beab-066eb34137e9",
   "metadata": {},
   "outputs": [],
   "source": [
    "class CustomKNNImputer():\n",
    "    \n",
    "    def __init__(self,n_neighbors):\n",
    "        self.imputer = KNNImputer(n_neighbors=n_neighbors)\n",
    "    \n",
    "    def fit(self,X,y=None):\n",
    "        self.imputer = self.imputer.fit(X)\n",
    "        return self.imputer \n",
    "    \n",
    "    def transform(self,X,y=None):\n",
    "        return pd.DataFrame(self.imputer.transform(X),columns=X.columns)\n",
    "    \n",
    "    def fit_transform(self,X,y=None):\n",
    "        self.imputer = self.imputer.fit(X)\n",
    "        return self.transform(X,y)\n",
    "    "
   ]
  },
  {
   "cell_type": "code",
   "execution_count": 7,
   "id": "186cf2a6-4dfe-4767-9526-9a0c14f6c33a",
   "metadata": {},
   "outputs": [],
   "source": [
    "cat_preprocess = ColumnTransformer(transformers=[\n",
    "    ('employed',PipeCustomOrdinalEncoder(),'Self_Employed'),\n",
    "    ('dependents',PipeCustomOrdinalEncoder(),'Dependents'),\n",
    "#     ('loan_amount',CustomOrdinalEncoder(),'Loan_Amount_Term'),\n",
    "    ('married',PipeCustomOrdinalEncoder(),'Married'),\n",
    "    ('gender',PipeCustomOrdinalEncoder(),'Gender'),\n",
    "    ('education',PipeCustomOrdinalEncoder(),'Education'),\n",
    "    ('property',PipeCustomOrdinalEncoder(),'Property_Area'),\n",
    "    ('credit-history',PipeCustomOrdinalEncoder(),'Credit_History')\n",
    "                                                ])\n",
    "\n",
    "categories = Pipeline(steps=[\n",
    "    ('cat',cat_preprocess),\n",
    "    ('cat_names',FunctionTransformer(lambda x: pd.DataFrame(x,columns=cat_columns)))\n",
    "])\n",
    "\n",
    "num_preprocess = ColumnTransformer(\n",
    "transformers=[\n",
    "    ('num_scaling',MinMaxScaler(),num_columns)\n",
    "])\n",
    "\n",
    "numerical = Pipeline(steps=[\n",
    "    ('num',num_preprocess),\n",
    "    ('num_names',FunctionTransformer(lambda x: pd.DataFrame(x,columns=num_columns)))\n",
    "])\n",
    "\n",
    "impute_preprocess = Pipeline(steps=[\n",
    "    ('feature_union',FeatureUnion(transformer_list=[\n",
    "        ('cat_pipe',categories),\n",
    "        ('num_pipe',numerical)\n",
    "    ])),\n",
    "    ('test',FunctionTransformer(lambda x: pd.DataFrame(x,columns=cat_columns+num_columns))),\n",
    "    ('imputer',CustomKNNImputer(n_neighbors=1,))\n",
    "])\n",
    "\n",
    "one_hot_encoding_preprocess = FeatureUnion(transformer_list=[\n",
    "        ('cat_features',ColumnTransformer(\n",
    "            transformers=[('categorical',OneHotEncoder(),cat_columns),]\n",
    "        )),\n",
    "        ('num_features',ColumnTransformer(\n",
    "            transformers=[('numeric','passthrough',num_columns),]\n",
    "        ))\n",
    "    ])\n",
    "\n",
    "preprocessing = Pipeline(steps=[\n",
    "    ('impute',impute_preprocess),\n",
    "    ('one_hot_encoded',one_hot_encoding_preprocess)\n",
    "])\n",
    "\n",
    "pipe = Pipeline(steps=[\n",
    "    ('preprocess',preprocessing),\n",
    "    ('model',LogisticRegression(random_state=123,fit_intercept=True,max_iter=1000))\n",
    "],verbose=True)\n",
    "\n"
   ]
  },
  {
   "cell_type": "code",
   "execution_count": 28,
   "id": "3ad3e7e0-cb16-4b53-846c-ebe3dd6779bb",
   "metadata": {},
   "outputs": [],
   "source": [
    "X_train,X_test,y_train,y_test = train_test_split(df.drop(columns=['Loan_Status']),\n",
    "                                                 df['Loan_Status'],stratify=df['Loan_Status'],random_state=60,train_size=0.6)"
   ]
  },
  {
   "cell_type": "code",
   "execution_count": 29,
   "id": "d992d710-8eb3-4dd9-9a23-309c90bfed32",
   "metadata": {},
   "outputs": [],
   "source": [
    "X_train = X_train.sort_index()\n",
    "y_train = y_train.sort_index()\n",
    "X_test = X_test.sort_index()\n",
    "y_test = y_test.sort_index()"
   ]
  },
  {
   "cell_type": "code",
   "execution_count": 30,
   "id": "cb072029-d5ec-4348-aa45-7ae45816d4f5",
   "metadata": {},
   "outputs": [],
   "source": [
    "training_indices = X_train.index.values\n",
    "testing_indices = X_test.index.values\n",
    "# training_indices"
   ]
  },
  {
   "cell_type": "code",
   "execution_count": 31,
   "id": "4e0938aa-cd38-4a32-a9e4-faf352e8db30",
   "metadata": {
    "tags": []
   },
   "outputs": [],
   "source": [
    "label_encoder = LabelEncoder()\n",
    "label_encoder = label_encoder.fit(y_train)\n",
    "y_train = label_encoder.transform(y_train)\n",
    "y_test = label_encoder.transform(y_test)"
   ]
  },
  {
   "cell_type": "code",
   "execution_count": 32,
   "id": "ae662dc0-6ea1-40b9-bf6c-4eb9bbdbfa9c",
   "metadata": {},
   "outputs": [],
   "source": [
    "params = {}"
   ]
  },
  {
   "cell_type": "code",
   "execution_count": 33,
   "id": "d43313df-144c-4cb3-b92c-3bed04150306",
   "metadata": {
    "tags": []
   },
   "outputs": [
    {
     "name": "stdout",
     "output_type": "stream",
     "text": [
      "[Pipeline] ........ (step 1 of 2) Processing preprocess, total=   0.1s\n",
      "[Pipeline] ............. (step 2 of 2) Processing model, total=   0.1s\n",
      "[Pipeline] ........ (step 1 of 2) Processing preprocess, total=   0.1s\n",
      "[Pipeline] ............. (step 2 of 2) Processing model, total=   0.0s\n",
      "[Pipeline] ........ (step 1 of 2) Processing preprocess, total=   0.1s\n",
      "[Pipeline] ............. (step 2 of 2) Processing model, total=   0.0s\n",
      "[Pipeline] ........ (step 1 of 2) Processing preprocess, total=   0.1s\n",
      "[Pipeline] ............. (step 2 of 2) Processing model, total=   0.0s\n",
      "[Pipeline] ........ (step 1 of 2) Processing preprocess, total=   0.1s\n",
      "[Pipeline] ............. (step 2 of 2) Processing model, total=   0.0s\n",
      "[Pipeline] ........ (step 1 of 2) Processing preprocess, total=   0.1s\n",
      "[Pipeline] ............. (step 2 of 2) Processing model, total=   0.0s\n"
     ]
    }
   ],
   "source": [
    "model = GridSearchCV(pipe,param_grid=params)\n",
    "model = model.fit(X_train,y_train)"
   ]
  },
  {
   "cell_type": "code",
   "execution_count": 34,
   "id": "8c55bd43-0afd-466d-a7ff-375cb65cda1b",
   "metadata": {},
   "outputs": [
    {
     "data": {
      "text/plain": [
       "0.8741007194244604"
      ]
     },
     "execution_count": 34,
     "metadata": {},
     "output_type": "execute_result"
    }
   ],
   "source": [
    "f1_score(y_train,model.predict(X_train))"
   ]
  },
  {
   "cell_type": "code",
   "execution_count": 35,
   "id": "ea47bb34-a9bc-47ee-b23f-18cce8575b8f",
   "metadata": {},
   "outputs": [
    {
     "data": {
      "text/plain": [
       "0.8693333333333333"
      ]
     },
     "execution_count": 35,
     "metadata": {},
     "output_type": "execute_result"
    }
   ],
   "source": [
    "f1_score(y_test,model.predict(X_test))"
   ]
  },
  {
   "cell_type": "code",
   "execution_count": null,
   "id": "de9a3cc2-e8da-4deb-a2b6-0ca436e361d2",
   "metadata": {},
   "outputs": [],
   "source": []
  }
 ],
 "metadata": {
  "kernelspec": {
   "display_name": "geo_env",
   "language": "python",
   "name": "geo_env"
  },
  "language_info": {
   "codemirror_mode": {
    "name": "ipython",
    "version": 3
   },
   "file_extension": ".py",
   "mimetype": "text/x-python",
   "name": "python",
   "nbconvert_exporter": "python",
   "pygments_lexer": "ipython3",
   "version": "3.9.6"
  }
 },
 "nbformat": 4,
 "nbformat_minor": 5
}
